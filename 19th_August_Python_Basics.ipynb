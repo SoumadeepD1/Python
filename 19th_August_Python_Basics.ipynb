{
 "cells": [
  {
   "cell_type": "markdown",
   "id": "d33d3cc1",
   "metadata": {},
   "source": [
    "# TOPIC: Python Basics Variable"
   ]
  },
  {
   "cell_type": "code",
   "execution_count": 1,
   "id": "a13fd3b9",
   "metadata": {},
   "outputs": [
    {
     "name": "stdout",
     "output_type": "stream",
     "text": [
      "Value of x after swapping: 20\n",
      "Value of y after swapping: 10\n"
     ]
    }
   ],
   "source": [
    "# 1)\n",
    "# Assigning integer values to x and y\n",
    "x,y=10,20\n",
    "\n",
    "# Swapping values of x and y\n",
    "x,y=y,x\n",
    "\n",
    "# Printing swapped values\n",
    "print(\"Value of x after swapping:\",x)\n",
    "print(\"Value of y after swapping:\",y)"
   ]
  },
  {
   "cell_type": "code",
   "execution_count": 2,
   "id": "85ab6ffa",
   "metadata": {},
   "outputs": [
    {
     "name": "stdout",
     "output_type": "stream",
     "text": [
      "Enter length (in m): 20\n",
      "Enter breadth (in m): 10\n",
      "Area of rectangle is 200 sq.m\n"
     ]
    }
   ],
   "source": [
    "# 2)\n",
    "# Taking length and breadth of rectangle as input in meter\n",
    "l=int(input(\"Enter length (in m): \"))\n",
    "w=int(input(\"Enter breadth (in m): \"))\n",
    "\n",
    "# Printing area of rectangle in square meter\n",
    "print(f'Area of rectangle is {l*w} sq.m')"
   ]
  },
  {
   "cell_type": "code",
   "execution_count": 3,
   "id": "211186b6",
   "metadata": {},
   "outputs": [
    {
     "name": "stdout",
     "output_type": "stream",
     "text": [
      "Enter temperature (in Celsius):100\n",
      "Temperature (in Fahrenheit) is 212.0\n"
     ]
    }
   ],
   "source": [
    "# 3)\n",
    "# Taking temperature as input in Celsius\n",
    "a= int(input(\"Enter temperature (in Celsius):\"))\n",
    "\n",
    "# Defining a variable which converts Celsius to Fahrenheit\n",
    "b=(a * 9/5) + 32\n",
    "\n",
    "# Printing temperature in Fahrenheit\n",
    "print(f'Temperature (in Fahrenheit) is {b}')"
   ]
  },
  {
   "cell_type": "markdown",
   "id": "3a7e24ae",
   "metadata": {},
   "source": [
    "# TOPIC: String Based Questions"
   ]
  },
  {
   "cell_type": "code",
   "execution_count": 4,
   "id": "3a3a305d",
   "metadata": {},
   "outputs": [
    {
     "name": "stdout",
     "output_type": "stream",
     "text": [
      "Enter your string: pwskills\n",
      "Length of pwskills is 8\n"
     ]
    }
   ],
   "source": [
    "# 1)\n",
    "# Taking string as input\n",
    "i=input(\"Enter your string: \")\n",
    "\n",
    "# Printing length of the string\n",
    "print(f'Length of {i} is {len(i)}')"
   ]
  },
  {
   "cell_type": "code",
   "execution_count": 5,
   "id": "f36f202e",
   "metadata": {},
   "outputs": [
    {
     "name": "stdout",
     "output_type": "stream",
     "text": [
      "Enter your sentence: Good morning Oliver.\n",
      "No of vowels in the sentence is 7\n"
     ]
    }
   ],
   "source": [
    "# 2)\n",
    "# Taking sentence as input\n",
    "sentence=input(\"Enter your sentence: \")\n",
    "\n",
    "# Defining a variable which contains vowels in upper and lower cases as python is case-sensitive\n",
    "vowels=('a','e','i','o','u', 'A', 'E', 'I','O', 'U')\n",
    "\n",
    "# Creating a loop to count vowels in input sentence\n",
    "count=0\n",
    "for letter in sentence:\n",
    "    if letter in vowels:\n",
    "            count+=1\n",
    "            \n",
    "            \n",
    "# Prininting no of vowels present in the sentence            \n",
    "print(\"No of vowels in the sentence is\", count)            "
   ]
  },
  {
   "cell_type": "code",
   "execution_count": 6,
   "id": "aa105cbc",
   "metadata": {},
   "outputs": [
    {
     "name": "stdout",
     "output_type": "stream",
     "text": [
      "Enter a string: Pwskills\n",
      "The string in reverse is: sllikswP\n"
     ]
    }
   ],
   "source": [
    "# 3)\n",
    "# Taking a string input\n",
    "s=input(\"Enter a string: \")\n",
    "\n",
    "# Printing the string in reverse order\n",
    "print(f'The string in reverse is: {s[::-1]}')"
   ]
  },
  {
   "cell_type": "code",
   "execution_count": 7,
   "id": "198ddec9",
   "metadata": {},
   "outputs": [
    {
     "name": "stdout",
     "output_type": "stream",
     "text": [
      "Enter a string: malayalam\n",
      "malayalam is a palindrome\n"
     ]
    }
   ],
   "source": [
    "# 4)\n",
    "# Taking a string input\n",
    "v=input(\"Enter a string: \")\n",
    "\n",
    "# Defining a varible which returns palinfrome of the string input\n",
    "v1=v[::-1]\n",
    "\n",
    "# Giving conditions to find palindrome\n",
    "if v1==v:\n",
    "    print(f'{v} is a palindrome')\n",
    "else:\n",
    "    print(f'{v} is not a palindrome')          "
   ]
  },
  {
   "cell_type": "code",
   "execution_count": 8,
   "id": "b043628f",
   "metadata": {},
   "outputs": [
    {
     "name": "stdout",
     "output_type": "stream",
     "text": [
      "Enter a string:    Pw  sk  ill s  \n",
      "Length of string before whitespace removal: 18\n",
      "String without whitespace: Pwskills\n",
      "Length of string after whitespace removal: 8\n"
     ]
    }
   ],
   "source": [
    "# 5)\n",
    "# Defining a function for removing spaces\n",
    "def RemoveSpace(string):\n",
    "    string=string.replace(' ','')\n",
    "    return string\n",
    "\n",
    "# Taking string user input\n",
    "a= input(\"Enter a string: \")\n",
    "print(f'Length of string before whitespace removal: {len(a)}')\n",
    "\n",
    "# Printing string removing spaces\n",
    "print(f'String without whitespace: {RemoveSpace(a)}')\n",
    "print(f'Length of string after whitespace removal: {len(RemoveSpace(a))}')"
   ]
  }
 ],
 "metadata": {
  "kernelspec": {
   "display_name": "Python 3 (ipykernel)",
   "language": "python",
   "name": "python3"
  },
  "language_info": {
   "codemirror_mode": {
    "name": "ipython",
    "version": 3
   },
   "file_extension": ".py",
   "mimetype": "text/x-python",
   "name": "python",
   "nbconvert_exporter": "python",
   "pygments_lexer": "ipython3",
   "version": "3.11.4"
  }
 },
 "nbformat": 4,
 "nbformat_minor": 5
}
