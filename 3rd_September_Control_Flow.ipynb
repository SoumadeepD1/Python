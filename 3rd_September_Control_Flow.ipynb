{
 "cells": [
  {
   "cell_type": "code",
   "execution_count": 1,
   "id": "985b674e",
   "metadata": {},
   "outputs": [
    {
     "name": "stdout",
     "output_type": "stream",
     "text": [
      "Enter a number: -9\n",
      "-9 is negative.\n"
     ]
    }
   ],
   "source": [
    "# 1)\n",
    "# Taking number as input\n",
    "number=int(input(\"Enter a number: \"))\n",
    "\n",
    "# Specifying conditions for a number to be positive, negative or zero\n",
    "if number>0:\n",
    "    print(f\"{number} is positive.\")\n",
    "elif number<0:\n",
    "          print(f\"{number} is negative.\")\n",
    "else:\n",
    "    print(f\"{number} is zero.\")"
   ]
  },
  {
   "cell_type": "code",
   "execution_count": 2,
   "id": "d28fffa1",
   "metadata": {},
   "outputs": [
    {
     "name": "stdout",
     "output_type": "stream",
     "text": [
      "Enter your age: 14\n",
      "Sorry! Only adults of age 18 years or above can vote.\n"
     ]
    }
   ],
   "source": [
    "# 2)\n",
    "# Taking age as input\n",
    "age=int(input(\"Enter your age: \"))\n",
    "\n",
    "# Specifying conditions to print whether a person is eligible to vote\n",
    "if age>=18:\n",
    "    print(\"Congrats! You are eligible to vote.\")\n",
    "else:\n",
    "    print(\"Sorry! Only adults of age 18 years or above can vote.\")"
   ]
  },
  {
   "cell_type": "code",
   "execution_count": 3,
   "id": "3df0d2d5",
   "metadata": {},
   "outputs": [
    {
     "name": "stdout",
     "output_type": "stream",
     "text": [
      "Enter first number: 14\n",
      "Enter second number: 22\n",
      "22 is greater than 14.\n"
     ]
    }
   ],
   "source": [
    "# 3)\n",
    "# Taking numbers as input\n",
    "number1=int(input(\"Enter first number: \"))\n",
    "number2=int(input(\"Enter second number: \"))\n",
    "\n",
    "# Specifying conditions to find the maximum number\n",
    "if number1> number2:\n",
    "    print(f\"{number1} is greater than {number2}.\")\n",
    "elif number2> number1:\n",
    "    print(f\"{number2} is greater than {number1}.\")\n",
    "else:\n",
    "    print(\"Both numbers are equal.\")"
   ]
  },
  {
   "cell_type": "code",
   "execution_count": 4,
   "id": "b1bbcaa0",
   "metadata": {},
   "outputs": [
    {
     "name": "stdout",
     "output_type": "stream",
     "text": [
      "Enter a year: 1900\n",
      "1900 is not a leap year.\n"
     ]
    }
   ],
   "source": [
    "# 4)\n",
    "# Defining function for leap year\n",
    "def leap_year(year):\n",
    "    if year%400==0 or (year%4==0 and year%100!=0):\n",
    "        print(f'{year} is a leap year.')\n",
    "    else: \n",
    "        print(f'{year} is not a leap year.')\n",
    "\n",
    "# Taking year as input\n",
    "year=int(input(\"Enter a year: \"))\n",
    "\n",
    "# Calling the function\n",
    "leap_year(year)"
   ]
  },
  {
   "cell_type": "code",
   "execution_count": 5,
   "id": "d03fcac0",
   "metadata": {},
   "outputs": [
    {
     "name": "stdout",
     "output_type": "stream",
     "text": [
      "Enter a character: x\n",
      "x is a consonant.\n"
     ]
    }
   ],
   "source": [
    "# 5)\n",
    "# Defining a function to check whether a character is a vowel or a consonant\n",
    "def isvowel(input_string):\n",
    "    if input_string in 'aeiouAEIOU':\n",
    "        print(f'{input_string} is a vowel.')\n",
    "    elif input_string in 'bcdfghjklmnpqrstvwxyzBCDFGHJKLMNPQRSTVWXYZ':\n",
    "        print(f'{input_string} is a consonant.')\n",
    "    else:\n",
    "        print(f'Invalid entry! Please input an alphabet.')\n",
    "        \n",
    "# Taking string as input\n",
    "input_string= input(\"Enter a character: \")\n",
    "isvowel(input_string)"
   ]
  },
  {
   "cell_type": "code",
   "execution_count": 6,
   "id": "03844263",
   "metadata": {},
   "outputs": [
    {
     "name": "stdout",
     "output_type": "stream",
     "text": [
      "Enter a number: 33\n",
      "33 is odd.\n"
     ]
    }
   ],
   "source": [
    "# 6)\n",
    "# Taking number as input\n",
    "number=int(input(\"Enter a number: \"))\n",
    "\n",
    "# Specifying conditions to determine whether a given number is even or odd\n",
    "if number%2==0:\n",
    "    print(f'{number} is even.')\n",
    "else:\n",
    "    print(f'{number} is odd.')"
   ]
  },
  {
   "cell_type": "code",
   "execution_count": 7,
   "id": "d16caeb2",
   "metadata": {},
   "outputs": [
    {
     "name": "stdout",
     "output_type": "stream",
     "text": [
      "Enter a number: -333\n",
      "Absolute value: 333\n"
     ]
    }
   ],
   "source": [
    "# 7)\n",
    "# Defining a function to calculate the absolute value of a number without using the `abs()` function\n",
    "def absolute(number):\n",
    "    if number<0:\n",
    "        print(f'Absolute value: {-number}')\n",
    "    else:\n",
    "        print(f'Absolute value: {number}')\n",
    "        \n",
    "# Taking number as input\n",
    "number=int(input(\"Enter a number: \"))\n",
    "\n",
    "# Calling the function\n",
    "absolute(number)"
   ]
  },
  {
   "cell_type": "code",
   "execution_count": 8,
   "id": "e0e1f957",
   "metadata": {},
   "outputs": [
    {
     "name": "stdout",
     "output_type": "stream",
     "text": [
      "Enter first number: 22\n",
      "Enter second number: 14\n",
      "Enter third number: 23\n",
      "The largest number is 23\n"
     ]
    }
   ],
   "source": [
    "# 8)\n",
    "# Taking numbers as input\n",
    "a=int(input(\"Enter first number: \"))\n",
    "b=int(input(\"Enter second number: \"))\n",
    "c=int(input(\"Enter third number: \"))\n",
    "\n",
    "# Specifying conditions to determine the largest of three given numbers\n",
    "if a>= b and a>=c:\n",
    "    largest=a\n",
    "elif b>=a and b>=c:\n",
    "    largest=b\n",
    "else:\n",
    "    largest=c\n",
    "print(f'The largest number is {largest}')"
   ]
  },
  {
   "cell_type": "code",
   "execution_count": 9,
   "id": "ecd3cbaf",
   "metadata": {},
   "outputs": [
    {
     "name": "stdout",
     "output_type": "stream",
     "text": [
      "Enter a word: Malayalam\n",
      "Malayalam is a palindrome.\n"
     ]
    }
   ],
   "source": [
    "# 9)\n",
    "# Specifying conditions to check if a given string is a palindrome\n",
    "def ispalindrome(string_input):\n",
    "    string_input=string_input.lower()\n",
    "    if string_input==string_input[::-1]:\n",
    "        print(f\"{string_input.capitalize()} is a palindrome.\")\n",
    "    else:\n",
    "        print(f\"{string_input.capitalize()} is not a palindrome.\")\n",
    "        \n",
    "# Taking string as input\n",
    "string_input= input(\"Enter a word: \")\n",
    "\n",
    "# Calling the function\n",
    "ispalindrome(string_input) "
   ]
  },
  {
   "cell_type": "code",
   "execution_count": 10,
   "id": "ac3633e1",
   "metadata": {},
   "outputs": [
    {
     "name": "stdout",
     "output_type": "stream",
     "text": [
      "Enter score (0-100): 78\n",
      "Grade B\n"
     ]
    }
   ],
   "source": [
    "# 10)\n",
    "# Taking score as input\n",
    "score=float(input(\"Enter score (0-100): \"))\n",
    "\n",
    "# Specifying conditions to calculate the grade based on a student's score\n",
    "if 100>=score>90:\n",
    "    print(\"Grade A+\")\n",
    "elif score>80:\n",
    "    print(\"Grade A\")\n",
    "elif score>70:\n",
    "    print(\"Grade B\")\n",
    "elif score>60:\n",
    "    print(\"Grade C\")\n",
    "elif score>50:\n",
    "    print(\"Grade D\")\n",
    "elif score>32:\n",
    "    print(\"Grade E\")\n",
    "elif score>=0:\n",
    "    print(\"Grade F\")\n",
    "else:\n",
    "    print(\"Invalid score (score should be between 0 and 100)\")"
   ]
  },
  {
   "cell_type": "code",
   "execution_count": 11,
   "id": "99ea3499",
   "metadata": {},
   "outputs": [
    {
     "name": "stdout",
     "output_type": "stream",
     "text": [
      "Enter first number: 19\n",
      "Enter second number: 21\n",
      "Enter third number: 20\n",
      "21 is the largest number.\n"
     ]
    }
   ],
   "source": [
    "# 11)\n",
    "# Taking numbers as input\n",
    "a=int(input(\"Enter first number: \"))\n",
    "b=int(input(\"Enter second number: \"))\n",
    "c=int(input(\"Enter third number: \"))\n",
    "\n",
    "# Specifying conditions to determine the largest of three given numbers using nested if-else\n",
    "if a>=b:\n",
    "    if a>=c:\n",
    "        largest=a\n",
    "    else:\n",
    "        largest=c\n",
    "else:\n",
    "    if b>=c:\n",
    "        largest=b\n",
    "    else:\n",
    "        largest=c\n",
    "print(f'{largest} is the largest number.')"
   ]
  },
  {
   "cell_type": "code",
   "execution_count": 12,
   "id": "cde2a871",
   "metadata": {},
   "outputs": [
    {
     "name": "stdout",
     "output_type": "stream",
     "text": [
      "Enter length of side 1: 20\n",
      "Enter length of side 2: 30\n",
      "Enter length of side 3: 20\n",
      "The triangle is Isosceles\n"
     ]
    }
   ],
   "source": [
    "# 12)\n",
    "# Taking length of sides of triangle as input\n",
    "a=float(input(\"Enter length of side 1: \"))\n",
    "b=float(input(\"Enter length of side 2: \"))\n",
    "c=float(input(\"Enter length of side 3: \"))\n",
    "\n",
    "# Specifying conditions to determine if a triangle is equilateral, isosceles, or scalene\n",
    "\n",
    "if a + b > c and a + c > b and b + c > a: # Checking if the input values form a valid triangle\n",
    "    if a==b:\n",
    "        if b==c:\n",
    "            triangle=\"Equilateral\"\n",
    "        else:\n",
    "            triangle=\"Isosceles\"\n",
    "    else:\n",
    "        if b==c or a==c:\n",
    "            triangle=\"Isosceles\"\n",
    "        else:\n",
    "            triangle=\"Scalene\"\n",
    "    print(f'The triangle is {triangle}')\n",
    "else:\n",
    "    print(\"These side lengths do not form a valid triangle.\")"
   ]
  },
  {
   "cell_type": "code",
   "execution_count": 13,
   "id": "b8054435",
   "metadata": {},
   "outputs": [
    {
     "name": "stdout",
     "output_type": "stream",
     "text": [
      "Enter a year: 2000\n",
      "2000 is a leap year and a Century year as well.\n"
     ]
    }
   ],
   "source": [
    "# 13)\n",
    "# Defining function for leap year and also a century year\n",
    "def leap_year(year):\n",
    "    if year%400==0:\n",
    "        print(f'{year} is a leap year and a Century year as well.')\n",
    "    elif year%4==0 and year%100!=0:\n",
    "         print(f'{year} is a leap year but not a century year.')\n",
    "    else:\n",
    "        if year%100==0:\n",
    "            print(f'{year} is not a leap year but a century year.')\n",
    "        else:\n",
    "            print(f'{year} is niether a leap year nor a century year.')\n",
    "\n",
    "# Taking year as input\n",
    "year=int(input(\"Enter a year: \"))\n",
    "\n",
    "# Calling the function\n",
    "leap_year(year)"
   ]
  },
  {
   "cell_type": "code",
   "execution_count": 14,
   "id": "5c32163d",
   "metadata": {},
   "outputs": [
    {
     "name": "stdout",
     "output_type": "stream",
     "text": [
      "Enter a number: -3\n",
      "-3 is negative.\n"
     ]
    }
   ],
   "source": [
    "# 14)\n",
    "# Taking number as input\n",
    "number=int(input(\"Enter a number: \"))\n",
    "\n",
    "# Specifying conditions for a number to be positive, negative or zero\n",
    "if number>=0:\n",
    "    if number>0:\n",
    "        print(f\"{number} is positive.\")\n",
    "    else:\n",
    "        print(f\"{number} is zero.\")\n",
    "else:\n",
    "    print(f\"{number} is negative.\")"
   ]
  },
  {
   "cell_type": "code",
   "execution_count": 15,
   "id": "bd2934e3",
   "metadata": {},
   "outputs": [
    {
     "name": "stdout",
     "output_type": "stream",
     "text": [
      "Enter your age: 15\n",
      "You are a teenager.\n"
     ]
    }
   ],
   "source": [
    "# 15)\n",
    "# Taking age as input\n",
    "age = int(input(\"Enter your age: \"))\n",
    "\n",
    "# Using nested if statements to check if the age is within the teenage range\n",
    "if age >= 13:\n",
    "    if age <= 19:\n",
    "        print(\"You are a teenager.\")\n",
    "    else:\n",
    "        print(\"You are not a teenager.\")\n",
    "else:\n",
    "    print(\"You are not a teenager.\")"
   ]
  },
  {
   "cell_type": "code",
   "execution_count": 16,
   "id": "c65fe512",
   "metadata": {},
   "outputs": [
    {
     "name": "stdout",
     "output_type": "stream",
     "text": [
      "Enter an angle value (in degrees): 90.01\n",
      "This is an obtuse angle.\n"
     ]
    }
   ],
   "source": [
    "# 16)\n",
    "# Taking angle as input\n",
    "angle=float(input(\"Enter an angle value (in degrees): \"))\n",
    "\n",
    "# Specifying conditions to print the type of angle based on its measure (acute, obtuse, or right)\n",
    "if 0<angle<90:\n",
    "    print(\"This is an acute angle.\")\n",
    "elif angle==90:\n",
    "    print(\"This is a right angle.\")\n",
    "elif 90<angle<180:\n",
    "    print(\"This is an obtuse angle.\")\n",
    "else:\n",
    "    print(\"This angle is not acute, obtuse or right angle.\")"
   ]
  },
  {
   "cell_type": "code",
   "execution_count": 17,
   "id": "c9d5746f",
   "metadata": {},
   "outputs": [
    {
     "name": "stdout",
     "output_type": "stream",
     "text": [
      "Enter a: 2\n",
      "Enter b: 3\n",
      "Enter c: 4\n",
      "Complex roots\n",
      "-0.75 +i 1.1989578808281798\n",
      "-0.75 -i 1.1989578808281798\n"
     ]
    }
   ],
   "source": [
    "# 17)\n",
    "import math\n",
    "\n",
    "# Defining a function to calculate the roots of a quadratic equation\n",
    "def quad_roots(a,b,c):\n",
    "    discriminant=b*b - 4*a*c\n",
    "    sqrt_val=math.sqrt(abs(discriminant))\n",
    "    if discriminant>0:\n",
    "        print(\"Real roots\")\n",
    "        print((-b+sqrt_val)/(2*a))\n",
    "        print((-b-sqrt_val)/(2*a))\n",
    "    elif discriminant==0:\n",
    "        print(\"Equal roots\")\n",
    "        print(-b/(2*a))\n",
    "    else:\n",
    "        print(\"Complex roots\")\n",
    "        print(-b/(2*a),'+i',sqrt_val/(2*a))\n",
    "        print(-b/(2*a),'-i',sqrt_val/(2*a))\n",
    "        \n",
    "# Taking coefficients values as input\n",
    "a=float(input(\"Enter a: \"))\n",
    "b=float(input(\"Enter b: \"))\n",
    "c=float(input(\"Enter c: \"))\n",
    "\n",
    "# Calling the function\n",
    "quad_roots(a,b,c)"
   ]
  },
  {
   "cell_type": "code",
   "execution_count": 18,
   "id": "12433791",
   "metadata": {},
   "outputs": [
    {
     "name": "stdout",
     "output_type": "stream",
     "text": [
      "Enter day number (1 for Monday, 2 for Tuesday, etc.): 3\n",
      "Weekday: Wednesday\n"
     ]
    }
   ],
   "source": [
    "# 18) \n",
    "# Taking a number as input from the user\n",
    "day_number=int(input(\"Enter day number (1 for Monday, 2 for Tuesday, etc.): \"))\n",
    "\n",
    "# Taking a list of week days\n",
    "weekdays=['Monday','Tuesday','Wednesday','Thursday','Friday','Saturday', 'Sunday']\n",
    "\n",
    "# Specifying conditions for printing weekday from week number\n",
    "if 1<=day_number<=7:\n",
    "    print(\"Weekday:\",weekdays[day_number-1])\n",
    "else:\n",
    "    print(\"Please enter a valid day number!\")"
   ]
  },
  {
   "cell_type": "code",
   "execution_count": 19,
   "id": "c2933fc1",
   "metadata": {},
   "outputs": [
    {
     "name": "stdout",
     "output_type": "stream",
     "text": [
      "Enter a year: 2000\n",
      "2000 is a leap year and is evenly divisible by 400.\n"
     ]
    }
   ],
   "source": [
    "# 19)\n",
    "# Defining function for leap year and also if it is evenly divisible by 400\n",
    "def leap_year(year):\n",
    "    if year%400==0:\n",
    "        print(f'{year} is a leap year and is evenly divisible by 400.')\n",
    "    elif year%4==0 and year%100!=0:\n",
    "         print(f'{year} is a leap year but  is not evenly divisible by 400.')\n",
    "    else:\n",
    "       print(f'{year} is neither a leap year nor is evenly divisible by 400.')\n",
    "# Taking year as input\n",
    "year=int(input(\"Enter a year: \"))\n",
    "\n",
    "# Calling the function\n",
    "leap_year(year)"
   ]
  },
  {
   "cell_type": "code",
   "execution_count": 20,
   "id": "ff5f8b91",
   "metadata": {},
   "outputs": [
    {
     "name": "stdout",
     "output_type": "stream",
     "text": [
      "Enter a number: 37\n",
      "37 is a prime number\n"
     ]
    }
   ],
   "source": [
    "# 20)\n",
    "# Taking integer as input\n",
    "num=int(input(\"Enter a number: \"))\n",
    "\n",
    "# Specifying conditions to identify whether a number is prime or not\n",
    "if num>1:\n",
    "    for i in range(2,int(num/2)+1):\n",
    "        #If num is divisible by any number between 2 and n / 2, it is not prime\n",
    "        if num%i==0:\n",
    "            print(num, 'is not a prime number')\n",
    "            break\n",
    "    else:\n",
    "        print(num, 'is a prime number')\n",
    "else:\n",
    "    print(num, 'is not a prime number') "
   ]
  },
  {
   "cell_type": "code",
   "execution_count": 21,
   "id": "1448fa27",
   "metadata": {},
   "outputs": [
    {
     "name": "stdout",
     "output_type": "stream",
     "text": [
      "Enter score (0-100): 33\n",
      "Grade E\n"
     ]
    }
   ],
   "source": [
    "# 21)\n",
    "# Taking score as input\n",
    "score=float(input(\"Enter score (0-100): \"))\n",
    "\n",
    "# Specifying conditions to calculate the grade based on a student's score\n",
    "if 100>=score>90:\n",
    "    print(\"Grade A+\")\n",
    "elif score>80:\n",
    "    print(\"Grade A\")\n",
    "elif score>70:\n",
    "    print(\"Grade B\")\n",
    "elif score>60:\n",
    "    print(\"Grade C\")\n",
    "elif score>50:\n",
    "    print(\"Grade D\")\n",
    "elif score>32:\n",
    "    print(\"Grade E\")\n",
    "elif score>=0:\n",
    "    print(\"Grade F\")\n",
    "else:\n",
    "    print(\"Invalid score (score should be between 0 and 100)\")"
   ]
  },
  {
   "cell_type": "code",
   "execution_count": 22,
   "id": "a0f939fd",
   "metadata": {},
   "outputs": [
    {
     "name": "stdout",
     "output_type": "stream",
     "text": [
      "Enter first angle of triangle: 40\n",
      "Enter second angle of triangle: 40\n",
      "Enter third angle of triangle: 100\n",
      "The triangle is Obtuse\n"
     ]
    }
   ],
   "source": [
    "# 22)\n",
    "# Taking angles of triangle as input\n",
    "angle1=float(input(\"Enter first angle of triangle: \"))\n",
    "angle2=float(input(\"Enter second angle of triangle: \"))\n",
    "angle3=float(input(\"Enter third angle of triangle: \"))\n",
    "\n",
    "# Specifying conditions to determine the type of a triangle based on its angles\n",
    "if angle1+angle2+angle3==180 and angle1>0 and angle2>0 and angle3>0:       #Checking if the triangle is valid\n",
    "    if angle1<90 and angle2<90 and angle3<90:\n",
    "        triangle='Acute'\n",
    "    elif angle1>90 or angle2>90 or angle3>90:\n",
    "        triangle='Obtuse'\n",
    "    else:\n",
    "        triangle='Right'\n",
    "else:\n",
    "    triangle=\"Invalid\"\n",
    "print(\"The triangle is\",triangle)"
   ]
  },
  {
   "cell_type": "code",
   "execution_count": 23,
   "id": "1da380ab",
   "metadata": {},
   "outputs": [
    {
     "name": "stdout",
     "output_type": "stream",
     "text": [
      "Enter your height (in meters):1.62\n",
      "Enter your weight (in Kg):74.8\n",
      "Your BMI is 28.50, which falls into the category: Overweight\n"
     ]
    }
   ],
   "source": [
    "# 23)\n",
    "# Taking height and weight as input\n",
    "height=float(input(\"Enter your height (in meters):\"))\n",
    "weight=float(input(\"Enter your weight (in Kg):\"))\n",
    "\n",
    "# Calculating BMI\n",
    "bmi=weight/(height**2)\n",
    "\n",
    "# Specifying conditions to categorize a given person's BMI into underweight, normal, overweight, or obese\n",
    "if bmi<18.5:\n",
    "    category= 'Underweight'\n",
    "elif 18.5<=bmi<25:\n",
    "    category= 'Normal'\n",
    "elif 25<=bmi<30:\n",
    "    category= 'Overweight'\n",
    "else:\n",
    "    category='Obese'\n",
    "print(f'Your BMI is {bmi:.2f}, which falls into the category: {category}')"
   ]
  },
  {
   "cell_type": "code",
   "execution_count": 25,
   "id": "a5baa757",
   "metadata": {},
   "outputs": [
    {
     "name": "stdout",
     "output_type": "stream",
     "text": [
      "Enter a number: 5\n",
      "5 is positive.\n"
     ]
    }
   ],
   "source": [
    "# 24)\n",
    "# Taking number as input\n",
    "number=int(input(\"Enter a number: \"))\n",
    "\n",
    "# Specifying conditions for a number to be positive, negative or zero\n",
    "if number>0:\n",
    "    print(f\"{number} is positive.\")\n",
    "elif number<0:\n",
    "          print(f\"{number} is negative.\")\n",
    "else:\n",
    "    print(f\"{number} is zero\")"
   ]
  },
  {
   "cell_type": "code",
   "execution_count": 26,
   "id": "c7ca22d6",
   "metadata": {},
   "outputs": [
    {
     "name": "stdout",
     "output_type": "stream",
     "text": [
      "Enter a character: t\n",
      "The character is lowercase.\n"
     ]
    }
   ],
   "source": [
    "# 25)\n",
    "# Taking a character as input\n",
    "character=input(\"Enter a character: \")\n",
    "\n",
    "# Specifying conditions to determine the type of a character (uppercase, lowercase, or special)\n",
    "if character.isupper():\n",
    "    output='uppercase'\n",
    "elif character.islower():\n",
    "    output='lowercase'\n",
    "elif not character.isalpha():\n",
    "    output='special'\n",
    "else:\n",
    "    output='not a letter'\n",
    "print(f'The character is {output}.')"
   ]
  },
  {
   "cell_type": "code",
   "execution_count": 27,
   "id": "a1c1b69a",
   "metadata": {},
   "outputs": [
    {
     "name": "stdout",
     "output_type": "stream",
     "text": [
      "Enter amount: 645\n",
      "Applicable discount: 10% \n",
      "Discounted price: 580.50\n"
     ]
    }
   ],
   "source": [
    "# 26)\n",
    "# Taking purchase amount as input\n",
    "amount=float(input(\"Enter amount: \"))\n",
    "\n",
    "# Specifying discounts\n",
    "discount1=0.05 #5%\n",
    "discount2=0.10 #10%\n",
    "discount3=0.15 #15%\n",
    "\n",
    "# Specifying threshold amount\n",
    "threshold1=200\n",
    "threshold2=500\n",
    "threshold3=1000\n",
    "\n",
    "# Specifying conditions to calculate the discounted price\n",
    "if threshold1<=amount<threshold2:\n",
    "    discount='5%'\n",
    "    discounted_price=amount-amount*discount1\n",
    "elif threshold2<=amount<threshold3:\n",
    "    discount='10%'\n",
    "    discounted_price=amount-amount*discount2\n",
    "elif amount>=threshold3:\n",
    "    discount='15%'\n",
    "    discounted_price=amount-amount*discount3\n",
    "else:\n",
    "    discount='Nil'\n",
    "    discounted_price=amount\n",
    "    \n",
    "print(f'Applicable discount: {discount} \\nDiscounted price: {discounted_price:.2f}')"
   ]
  },
  {
   "cell_type": "code",
   "execution_count": 28,
   "id": "ad5cb6a2",
   "metadata": {},
   "outputs": [
    {
     "name": "stdout",
     "output_type": "stream",
     "text": [
      "Enter your electricity consumption in kWh: 162\n",
      "Your electricity bill is: Rs 741.00\n"
     ]
    }
   ],
   "source": [
    "# 27\n",
    "# Taking the electricity consumption in kilowatt-hours (kWh) as input\n",
    "consumption = float(input(\"Enter your electricity consumption in kWh: \"))\n",
    "\n",
    "# Specifying electricity rates and consumption slabs\n",
    "rate_slab_1 = 4  # Rate for the first 100 kWh\n",
    "rate_slab_2 = 5.5  # Rate for the next 200 kWh\n",
    "rate_slab_3 = 8  # Rate for consumption above 300 kWh\n",
    "\n",
    "slab_1_limit = 100   # Limit for the first slab\n",
    "slab_2_limit = 300   # Limit for the second slab\n",
    "\n",
    "# Calculating the electricity bill based on consumption using elif statements\n",
    "if consumption <= slab_1_limit:\n",
    "    bill = consumption * rate_slab_1\n",
    "elif consumption <= slab_2_limit:\n",
    "    bill = (slab_1_limit * rate_slab_1) + ((consumption - slab_1_limit) * rate_slab_2)\n",
    "else:\n",
    "    bill = (slab_1_limit * rate_slab_1) + ((slab_2_limit - slab_1_limit) * rate_slab_2) + ((consumption - slab_2_limit) * rate_slab_3)\n",
    "\n",
    "# Displaying the electricity bill\n",
    "print(f\"Your electricity bill is: Rs {bill:.2f}\")"
   ]
  },
  {
   "cell_type": "code",
   "execution_count": 29,
   "id": "0c1efa87",
   "metadata": {},
   "outputs": [
    {
     "name": "stdout",
     "output_type": "stream",
     "text": [
      "Enter the first angle (in degrees): 80\n",
      "Enter the second angle (in degrees): 100\n",
      "Enter the third angle (in degrees): 80\n",
      "Enter the fourth angle (in degrees): 100\n",
      "Enter the length of side 1: 5\n",
      "Enter the length of side 2: 5\n",
      "Enter the length of side 3: 7\n",
      "Enter the length of side 4: 8\n",
      "The quadrilateral is a Parallelogram.\n"
     ]
    }
   ],
   "source": [
    "# 28)\n",
    "# Taking the angles and sides of the quadrilateral as input\n",
    "angle1 = float(input(\"Enter the first angle (in degrees): \"))\n",
    "angle2 = float(input(\"Enter the second angle (in degrees): \"))\n",
    "angle3 = float(input(\"Enter the third angle (in degrees): \"))\n",
    "angle4 = float(input(\"Enter the fourth angle (in degrees): \"))\n",
    "\n",
    "side1 = float(input(\"Enter the length of side 1: \"))\n",
    "side2 = float(input(\"Enter the length of side 2: \"))\n",
    "side3 = float(input(\"Enter the length of side 3: \"))\n",
    "side4 = float(input(\"Enter the length of side 4: \"))\n",
    "\n",
    "# Checking the type of quadrilateral using elif statements\n",
    "if angle1 == angle2 == angle3 == angle4 == 90:\n",
    "    if side1 == side2 == side3 == side4:\n",
    "        quadrilateral_type = \"Square\"\n",
    "    elif side1 == side2 and side3 == side4:\n",
    "        quadrilateral_type = \"Rectangle\"\n",
    "    else:\n",
    "        quadrilateral_type = \"Quadrilateral (Right Angles)\"\n",
    "elif side1 == side2 == side3 == side4:\n",
    "    quadrilateral_type = \"Rhombus\"\n",
    "elif angle1 == angle2 == angle3 == angle4:\n",
    "    quadrilateral_type = \"Kite\"\n",
    "elif angle1 == angle3 and angle2 == angle4:\n",
    "    quadrilateral_type = \"Parallelogram\"\n",
    "elif side1 == side3 and side2 == side4:\n",
    "    quadrilateral_type = \"Trapezoid\"\n",
    "else:\n",
    "    quadrilateral_type = \"Quadrilateral (General)\"\n",
    "\n",
    "# Displaying the type of quadrilateral\n",
    "print(f\"The quadrilateral is a {quadrilateral_type}.\")"
   ]
  },
  {
   "cell_type": "code",
   "execution_count": 30,
   "id": "e3ffb5e9",
   "metadata": {},
   "outputs": [
    {
     "name": "stdout",
     "output_type": "stream",
     "text": [
      "Enter the month name: October\n",
      "The season for October is Autumn.\n"
     ]
    }
   ],
   "source": [
    "# 29)\n",
    "# Taking the month name as input\n",
    "month_name = input(\"Enter the month name: \").strip().lower()\n",
    "\n",
    "# Determining the season based on the month\n",
    "if month_name in [\"march\", \"april\", \"may\"]:\n",
    "    season = \"Spring\"\n",
    "elif month_name in [\"june\", \"july\", \"august\"]:\n",
    "    season = \"Summer\"\n",
    "elif month_name in [\"september\", \"october\", \"november\"]:\n",
    "    season = \"Autumn\"\n",
    "elif month_name in [\"december\", \"january\", \"february\"]:\n",
    "    season = \"Winter\"\n",
    "else:\n",
    "    season = \"Rainy\"\n",
    "\n",
    "# Displaying the determined season\n",
    "print(f\"The season for {month_name.capitalize()} is {season}.\")"
   ]
  },
  {
   "cell_type": "code",
   "execution_count": 31,
   "id": "8c61f00d",
   "metadata": {},
   "outputs": [
    {
     "name": "stdout",
     "output_type": "stream",
     "text": [
      "Enter a year: 2023\n",
      "Enter the month name: September\n",
      "The year 2023 is a Common year.\n",
      "The month September has 30 days.\n"
     ]
    }
   ],
   "source": [
    "# 30)\n",
    "# Taking the year as input\n",
    "year = int(input(\"Enter a year: \"))\n",
    "\n",
    "# Taking the month name as input\n",
    "month_name = input(\"Enter the month name: \").strip().lower()\n",
    "\n",
    "# Determining the type of year (leap or common) \n",
    "if (year % 4 == 0 and year % 100 != 0) or (year % 400 == 0):\n",
    "    year_type = \"Leap\"\n",
    "else:\n",
    "    year_type = \"Common\"\n",
    "\n",
    "# Determining the number of days in the month\n",
    "if month_name in [\"april\", \"june\", \"september\", \"november\"]:\n",
    "    days_in_month = 30\n",
    "elif month_name == \"february\":\n",
    "    if year_type == \"Leap\":\n",
    "        days_in_month = 29\n",
    "    else:\n",
    "        days_in_month = 28\n",
    "else:\n",
    "    days_in_month = 31\n",
    "\n",
    "# Displaying the determined year type and days in the month\n",
    "print(f\"The year {year} is a {year_type} year.\")\n",
    "print(f\"The month {month_name.capitalize()} has {days_in_month} days.\")"
   ]
  },
  {
   "cell_type": "markdown",
   "id": "b9015c3c",
   "metadata": {},
   "source": [
    "**Basic Level**"
   ]
  },
  {
   "cell_type": "code",
   "execution_count": 32,
   "id": "13c445b6",
   "metadata": {},
   "outputs": [
    {
     "name": "stdout",
     "output_type": "stream",
     "text": [
      "Enter a number: -9\n",
      "-9 is negative.\n"
     ]
    }
   ],
   "source": [
    "# 1)\n",
    "# Taking number as input\n",
    "number=int(input(\"Enter a number: \"))\n",
    "\n",
    "# Specifying conditions for a number to be positive, negative or zero\n",
    "if number>0:\n",
    "    print(f\"{number} is positive.\")\n",
    "elif number<0:\n",
    "          print(f\"{number} is negative.\")\n",
    "else:\n",
    "    print(f\"{number} is zero.\")"
   ]
  },
  {
   "cell_type": "code",
   "execution_count": 33,
   "id": "e7a9cc47",
   "metadata": {},
   "outputs": [
    {
     "name": "stdout",
     "output_type": "stream",
     "text": [
      "Enter your age: 17\n",
      "Sorry! Only adults of age 18 years or above can vote.\n"
     ]
    }
   ],
   "source": [
    "# 2)\n",
    "# Taking age as input\n",
    "age=int(input(\"Enter your age: \"))\n",
    "\n",
    "# Specifying conditions to print whether a person is eligible to vote\n",
    "if age>=18:\n",
    "    print(\"Congrats! You are eligible to vote.\")\n",
    "else:\n",
    "    print(\"Sorry! Only adults of age 18 years or above can vote.\")"
   ]
  },
  {
   "cell_type": "code",
   "execution_count": 34,
   "id": "fd84a770",
   "metadata": {},
   "outputs": [
    {
     "name": "stdout",
     "output_type": "stream",
     "text": [
      "Enter first number: 22\n",
      "Enter second number: 32\n",
      "32 is greater than 22.\n"
     ]
    }
   ],
   "source": [
    "# 3)\n",
    "# Taking numbers as input\n",
    "number1=int(input(\"Enter first number: \"))\n",
    "number2=int(input(\"Enter second number: \"))\n",
    "\n",
    "# Specifying conditions to find the maximum number\n",
    "if number1> number2:\n",
    "    print(f\"{number1} is greater than {number2}.\")\n",
    "elif number2> number1:\n",
    "    print(f\"{number2} is greater than {number1}.\")\n",
    "else:\n",
    "    print(\"Both numbers are equal.\")"
   ]
  },
  {
   "cell_type": "code",
   "execution_count": 35,
   "id": "4c905817",
   "metadata": {},
   "outputs": [
    {
     "name": "stdout",
     "output_type": "stream",
     "text": [
      "Enter score (0-100): 68\n",
      "Grade C\n"
     ]
    }
   ],
   "source": [
    "# 4)\n",
    "# Taking score as input\n",
    "score=float(input(\"Enter score (0-100): \"))\n",
    "\n",
    "# Specifying conditions to calculate the grade based on a student's score\n",
    "if 100>=score>90:\n",
    "    print(\"Grade A+\")\n",
    "elif score>80:\n",
    "    print(\"Grade A\")\n",
    "elif score>70:\n",
    "    print(\"Grade B\")\n",
    "elif score>60:\n",
    "    print(\"Grade C\")\n",
    "elif score>50:\n",
    "    print(\"Grade D\")\n",
    "elif score>32:\n",
    "    print(\"Grade E\")\n",
    "elif score>=0:\n",
    "    print(\"Grade F\")\n",
    "else:\n",
    "    print(\"Invalid score (score should be between 0 and 100)\")"
   ]
  },
  {
   "cell_type": "code",
   "execution_count": 36,
   "id": "54bb56ba",
   "metadata": {},
   "outputs": [
    {
     "name": "stdout",
     "output_type": "stream",
     "text": [
      "Enter a year: 1900\n",
      "1900 is not a leap year.\n"
     ]
    }
   ],
   "source": [
    "# 5)\n",
    "# Defining function for leap year\n",
    "def leap_year(year):\n",
    "    if year%400==0 or (year%4==0 and year%100!=0):\n",
    "        print(f'{year} is a leap year.')\n",
    "    else: \n",
    "        print(f'{year} is not a leap year.')\n",
    "\n",
    "# Taking year as input\n",
    "year=int(input(\"Enter a year: \"))\n",
    "\n",
    "# Calling the function\n",
    "leap_year(year)"
   ]
  },
  {
   "cell_type": "code",
   "execution_count": 37,
   "id": "cb8d8f2a",
   "metadata": {},
   "outputs": [
    {
     "name": "stdout",
     "output_type": "stream",
     "text": [
      "Enter length of side 1: 12\n",
      "Enter length of side 2: 13\n",
      "Enter length of side 3: 14\n",
      "The triangle is Scalene\n"
     ]
    }
   ],
   "source": [
    "# 6)\n",
    "# Taking length of sides of triangle as input\n",
    "a=float(input(\"Enter length of side 1: \"))\n",
    "b=float(input(\"Enter length of side 2: \"))\n",
    "c=float(input(\"Enter length of side 3: \"))\n",
    "\n",
    "# Specifying conditions to determine if a triangle is equilateral, isosceles, or scalene\n",
    "\n",
    "if a + b > c and a + c > b and b + c > a: # Checking if the input values form a valid triangle\n",
    "    if a==b:\n",
    "        if b==c:\n",
    "            triangle=\"Equilateral\"\n",
    "        else:\n",
    "            triangle=\"Isosceles\"\n",
    "    else:\n",
    "        if b==c or a==c:\n",
    "            triangle=\"Isosceles\"\n",
    "        else:\n",
    "            triangle=\"Scalene\"\n",
    "    print(f'The triangle is {triangle}')\n",
    "else:\n",
    "    print(\"These side lengths do not form a valid triangle.\")"
   ]
  },
  {
   "cell_type": "code",
   "execution_count": 38,
   "id": "c9fc6d60",
   "metadata": {},
   "outputs": [
    {
     "name": "stdout",
     "output_type": "stream",
     "text": [
      "Enter first number: 14\n",
      "Enter second number: 41\n",
      "Enter third number: 27\n",
      "The largest number is 41\n"
     ]
    }
   ],
   "source": [
    "# 7)\n",
    "# Taking numbers as input\n",
    "a=int(input(\"Enter first number: \"))\n",
    "b=int(input(\"Enter second number: \"))\n",
    "c=int(input(\"Enter third number: \"))\n",
    "\n",
    "# Specifying conditions to determine the largest of three given numbers\n",
    "if a>= b and a>=c:\n",
    "    largest=a\n",
    "elif b>=a and b>=c:\n",
    "    largest=b\n",
    "else:\n",
    "    largest=c\n",
    "print(f'The largest number is {largest}')"
   ]
  },
  {
   "cell_type": "code",
   "execution_count": 39,
   "id": "2d128bb8",
   "metadata": {},
   "outputs": [
    {
     "name": "stdout",
     "output_type": "stream",
     "text": [
      "Enter a character: U\n",
      "U is a vowel.\n"
     ]
    }
   ],
   "source": [
    "# 8)\n",
    "# Defining a function to check whether a character is a vowel or a consonant\n",
    "def isvowel(input_string):\n",
    "    if input_string in 'aeiouAEIOU':\n",
    "        print(f'{input_string} is a vowel.')\n",
    "    elif input_string in 'bcdfghjklmnpqrstvwxyzBCDFGHJKLMNPQRSTVWXYZ':\n",
    "        print(f'{input_string} is a consonant.')\n",
    "    else:\n",
    "        print(f'Invalid entry! Please input an alphabet.')\n",
    "        \n",
    "# Taking string as input\n",
    "input_string= input(\"Enter a character: \")\n",
    "isvowel(input_string)"
   ]
  },
  {
   "cell_type": "code",
   "execution_count": 40,
   "id": "4b7e3f96",
   "metadata": {},
   "outputs": [
    {
     "name": "stdout",
     "output_type": "stream",
     "text": [
      "Enter amount: 230\n",
      "Applicable discount: 5% \n",
      "Discounted price: 218.50\n"
     ]
    }
   ],
   "source": [
    "# 9)\n",
    "# Taking purchase amount as input\n",
    "amount=float(input(\"Enter amount: \"))\n",
    "\n",
    "# Specifying discounts\n",
    "discount1=0.05 #5%\n",
    "discount2=0.10 #10%\n",
    "discount3=0.15 #15%\n",
    "\n",
    "# Specifying threshold amount\n",
    "threshold1=200\n",
    "threshold2=500\n",
    "threshold3=1000\n",
    "\n",
    "# Specifying conditions to calculate the discounted price\n",
    "if threshold1<=amount<threshold2:\n",
    "    discount='5%'\n",
    "    discounted_price=amount-amount*discount1\n",
    "elif threshold2<=amount<threshold3:\n",
    "    discount='10%'\n",
    "    discounted_price=amount-amount*discount2\n",
    "elif amount>=threshold3:\n",
    "    discount='15%'\n",
    "    discounted_price=amount-amount*discount3\n",
    "else:\n",
    "    discount='Nil'\n",
    "    discounted_price=amount\n",
    "    \n",
    "print(f'Applicable discount: {discount} \\nDiscounted price: {discounted_price:.2f}')"
   ]
  },
  {
   "cell_type": "code",
   "execution_count": 41,
   "id": "3f419bff",
   "metadata": {},
   "outputs": [
    {
     "name": "stdout",
     "output_type": "stream",
     "text": [
      "Enter a number: 66\n",
      "66 is even.\n"
     ]
    }
   ],
   "source": [
    "# 10)\n",
    "# Taking number as input\n",
    "number=int(input(\"Enter a number: \"))\n",
    "\n",
    "# Specifying conditions to determine whether a given number is even or odd\n",
    "if number%2==0:\n",
    "    print(f'{number} is even.')\n",
    "else:\n",
    "    print(f'{number} is odd.')"
   ]
  },
  {
   "cell_type": "markdown",
   "id": "596c51b2",
   "metadata": {},
   "source": [
    "**Intermediate Level**"
   ]
  },
  {
   "cell_type": "code",
   "execution_count": 42,
   "id": "2c3fd37e",
   "metadata": {},
   "outputs": [
    {
     "name": "stdout",
     "output_type": "stream",
     "text": [
      "Enter a: 5\n",
      "Enter b: 6\n",
      "Enter c: 7\n",
      "Complex roots\n",
      "-0.6 +i 1.0198039027185568\n",
      "-0.6 -i 1.0198039027185568\n"
     ]
    }
   ],
   "source": [
    "# 11)\n",
    "import math\n",
    "\n",
    "# Defining a function to calculate the roots of a quadratic equation\n",
    "def quad_roots(a,b,c):\n",
    "    discriminant=b*b - 4*a*c\n",
    "    sqrt_val=math.sqrt(abs(discriminant))\n",
    "    if discriminant>0:\n",
    "        print(\"Real roots\")\n",
    "        print((-b+sqrt_val)/(2*a))\n",
    "        print((-b-sqrt_val)/(2*a))\n",
    "    elif discriminant==0:\n",
    "        print(\"Equal roots\")\n",
    "        print(-b/(2*a))\n",
    "    else:\n",
    "        print(\"Complex roots\")\n",
    "        print(-b/(2*a),'+i',sqrt_val/(2*a))\n",
    "        print(-b/(2*a),'-i',sqrt_val/(2*a))\n",
    "        \n",
    "# Taking coefficients values as input\n",
    "a=float(input(\"Enter a: \"))\n",
    "b=float(input(\"Enter b: \"))\n",
    "c=float(input(\"Enter c: \"))\n",
    "\n",
    "# Calling the function\n",
    "quad_roots(a,b,c)"
   ]
  },
  {
   "cell_type": "code",
   "execution_count": 43,
   "id": "2fc5602f",
   "metadata": {},
   "outputs": [
    {
     "name": "stdout",
     "output_type": "stream",
     "text": [
      "Enter day number (1 for Monday, 2 for Tuesday, etc.): 3\n",
      "Weekday: Wednesday\n"
     ]
    }
   ],
   "source": [
    "# 12) \n",
    "# Taking a number as input from the user\n",
    "day_number=int(input(\"Enter day number (1 for Monday, 2 for Tuesday, etc.): \"))\n",
    "\n",
    "# Taking a list of week days\n",
    "weekdays=['Monday','Tuesday','Wednesday','Thursday','Friday','Saturday', 'Sunday']\n",
    "\n",
    "# Specifying conditions for printing weekday from week number\n",
    "if 1<=day_number<=7:\n",
    "    print(\"Weekday:\",weekdays[day_number-1])\n",
    "else:\n",
    "    print(\"Please enter a valid day number!\")"
   ]
  },
  {
   "cell_type": "code",
   "execution_count": 44,
   "id": "2f2f2121",
   "metadata": {},
   "outputs": [
    {
     "name": "stdout",
     "output_type": "stream",
     "text": [
      "Enter a number: 12\n",
      "12! = 479,001,600\n"
     ]
    }
   ],
   "source": [
    "# 13)\n",
    "# Taking number for which factorial is to be calculated as input\n",
    "factorial_num=int(input(\"Enter a number: \"))\n",
    "\n",
    "# Specifying conditions to get factorial\n",
    "factorial=1\n",
    "for i in range(factorial_num,0,-1):\n",
    "    factorial*=i\n",
    "print(f'{factorial_num}! = {factorial:,}') #Printing result with commas making it easy to read"
   ]
  },
  {
   "cell_type": "code",
   "execution_count": 45,
   "id": "565cc7f9",
   "metadata": {},
   "outputs": [
    {
     "name": "stdout",
     "output_type": "stream",
     "text": [
      "Enter first number: 33\n",
      "Enter second number: 23\n",
      "Enter third number: 34\n",
      "The largest number is 34\n"
     ]
    }
   ],
   "source": [
    "# 14)\n",
    "# Taking numbers as input\n",
    "a=int(input(\"Enter first number: \"))\n",
    "b=int(input(\"Enter second number: \"))\n",
    "c=int(input(\"Enter third number: \"))\n",
    "\n",
    "# Specifying conditions to determine the largest of three given numbers\n",
    "if a>= b and a>=c:\n",
    "    largest=a\n",
    "elif b>=a and b>=c:\n",
    "    largest=b\n",
    "else:\n",
    "    largest=c\n",
    "print(f'The largest number is {largest}')"
   ]
  },
  {
   "cell_type": "code",
   "execution_count": 48,
   "id": "a05d6198",
   "metadata": {},
   "outputs": [
    {
     "name": "stdout",
     "output_type": "stream",
     "text": [
      "=== ATM Menu ===\n",
      "1. Check Balance\n",
      "2. Deposit Money\n",
      "3. Withdraw Money\n",
      "4. Quit\n",
      "Enter your choice (1/2/3/4): 1\n",
      "Your account balance is Rs1000.00\n",
      "=== ATM Menu ===\n",
      "1. Check Balance\n",
      "2. Deposit Money\n",
      "3. Withdraw Money\n",
      "4. Quit\n",
      "Enter your choice (1/2/3/4): 2\n",
      "Enter the amount to deposit: Rs1000\n",
      "Rs1000.0 has been deposited in your account. n\\Your updated balance is Rs2000.0.\n",
      "=== ATM Menu ===\n",
      "1. Check Balance\n",
      "2. Deposit Money\n",
      "3. Withdraw Money\n",
      "4. Quit\n",
      "Enter your choice (1/2/3/4): 1\n",
      "Your account balance is Rs2000.00\n",
      "=== ATM Menu ===\n",
      "1. Check Balance\n",
      "2. Deposit Money\n",
      "3. Withdraw Money\n",
      "4. Quit\n",
      "Enter your choice (1/2/3/4): 4\n",
      "Thank you for using the ATM. Have a nice day!\n"
     ]
    }
   ],
   "source": [
    "# 15)\n",
    "# Initial Balance\n",
    "balance=1000\n",
    "\n",
    "# Defining a function to check balance\n",
    "def check_balance():\n",
    "    print(f'Your account balance is Rs{balance:.2f}')\n",
    "    \n",
    "# Defining a function to deposit money\n",
    "def deposit_money():\n",
    "    global balance\n",
    "    deposit_amount=float(input(f'Enter the amount to deposit: Rs'))\n",
    "    if deposit_amount>0:\n",
    "        balance+=deposit_amount\n",
    "        print(f'Rs{deposit_amount} has been deposited in your account. n\\Your updated balance is Rs{balance}.')\n",
    "    else:\n",
    "        print(\"Invalid amount. Deposit amount must be greater than zero.\")\n",
    "\n",
    "# Defining a function to withdraw money        \n",
    "def withdraw_money():\n",
    "    global balance\n",
    "    withdraw_amount=float(input(f'Enter the amount to withdraw: Rs'))\n",
    "    if withdraw_amount<=balance:\n",
    "        balance-=withdraw_amount\n",
    "        print(f'Rs{deposit_amount} has been withdrawn from your account. n\\Your updated balance is Rs{balance}.')\n",
    "    elif withdraw_amount<=0:\n",
    "        print(\"Invalid amount. Withdrawl amount must be greater than zero.\")\n",
    "    else:\n",
    "        print(\"Insufficient funds. You cannot withdraw more than your account balance.\")\n",
    "\n",
    "# ATM menu \n",
    "while True:\n",
    "    print(\"=== ATM Menu ===\")\n",
    "    print(\"1. Check Balance\")\n",
    "    print(\"2. Deposit Money\")\n",
    "    print(\"3. Withdraw Money\")\n",
    "    print(\"4. Quit\")\n",
    "\n",
    "    choice = input(\"Enter your choice (1/2/3/4): \")\n",
    "\n",
    "    if choice == '1':\n",
    "        check_balance()\n",
    "    elif choice == '2':\n",
    "        deposit_money()\n",
    "    elif choice == '3':\n",
    "        withdraw_money()\n",
    "    elif choice == '4':\n",
    "        print(\"Thank you for using the ATM. Have a nice day!\")\n",
    "        break\n",
    "    else:\n",
    "        print(\"Invalid choice. Please select a valid option.\")"
   ]
  },
  {
   "cell_type": "code",
   "execution_count": 49,
   "id": "25300a55",
   "metadata": {},
   "outputs": [
    {
     "name": "stdout",
     "output_type": "stream",
     "text": [
      "Enter a word: Madam\n",
      "Madam is a palindrome.\n"
     ]
    }
   ],
   "source": [
    "# 16)\n",
    "# Specifying conditions to check if a given string is a palindrome\n",
    "def ispalindrome(string_input):\n",
    "    string_input=string_input.lower()\n",
    "    if string_input==string_input[::-1]:\n",
    "        print(f\"{string_input.capitalize()} is a palindrome.\")\n",
    "    else:\n",
    "        print(f\"{string_input.capitalize()} is not a palindrome.\")\n",
    "        \n",
    "# Taking string as input\n",
    "string_input= input(\"Enter a word: \")\n",
    "\n",
    "# Calling the function\n",
    "ispalindrome(string_input) "
   ]
  },
  {
   "cell_type": "code",
   "execution_count": 50,
   "id": "1433072e",
   "metadata": {},
   "outputs": [
    {
     "name": "stdout",
     "output_type": "stream",
     "text": [
      "Average (excluding extremes): 4.5\n"
     ]
    }
   ],
   "source": [
    "# 17)\n",
    "# Defining a function to calculate the average of a list of numbers, excluding the smallest and largest values\n",
    "def average(input_list):\n",
    "    if len(input_list)<3:\n",
    "        print(\"List should have at least 3 elements to calculate an average.\")\n",
    "        return\n",
    "    min_value=min(input_list)\n",
    "    max_value=max(input_list)\n",
    "    \n",
    "    #Removing the smallest and the largest digit from the list\n",
    "    input_list.remove(min_value)\n",
    "    input_list.remove(max_value)\n",
    "    \n",
    "    #Calculating average of the remaining values\n",
    "    average=sum(input_list)/len(input_list)\n",
    "    \n",
    "    print(f'Average (excluding extremes): {average}')\n",
    "    \n",
    "# Example list\n",
    "list1=[1,2,3,4,5,6,7,8,9,0]\n",
    "\n",
    "# Calling the function\n",
    "average(list1)"
   ]
  },
  {
   "cell_type": "code",
   "execution_count": 51,
   "id": "465e1341",
   "metadata": {},
   "outputs": [
    {
     "name": "stdout",
     "output_type": "stream",
     "text": [
      "Enter temperature (in Celsius): 100\n",
      "100.0 degrees Celsius is equal to 212.0 degrees Fahrenheit.\n"
     ]
    }
   ],
   "source": [
    "# 18)\n",
    "# Defining a function that converts a given temperature from Celsius to Fahrenheit\n",
    "def celsius_to_fahrenheit(celcius):\n",
    "    fahrenheit=celcius*(9/5)+32\n",
    "    return fahrenheit\n",
    "\n",
    "# Taking temperature in Celcius as input\n",
    "celsius=float(input(\"Enter temperature (in Celsius): \"))\n",
    "\n",
    "# Checking if the input temperature is valid\n",
    "if celsius < -273.15:\n",
    "    print(\"Celsius temperature cannot be below absolute zero.\")\n",
    "else:\n",
    "    fahrenheit = celsius_to_fahrenheit(celsius)\n",
    "    print(f\"{celsius} degrees Celsius is equal to {fahrenheit} degrees Fahrenheit.\")"
   ]
  },
  {
   "cell_type": "code",
   "execution_count": 52,
   "id": "bbac2fa8",
   "metadata": {},
   "outputs": [
    {
     "name": "stdout",
     "output_type": "stream",
     "text": [
      "Enter first number: 23\n",
      "Enter first number: 24\n",
      "Choose an operator (+,-,x,/): x\n",
      "23.0 X 24.0 = 552.0\n"
     ]
    }
   ],
   "source": [
    "# 19)\n",
    "# Defining a function that simulates a basic calculator\n",
    "def calculator(a,b):\n",
    "    operator=input(\"Choose an operator (+,-,x,/): \")\n",
    "    if operator=='+':\n",
    "        print(f'{a} + {b} = {a+b}')\n",
    "    elif operator=='-':\n",
    "        print(f'{a} - {b} = {a-b}')\n",
    "    elif operator=='x':\n",
    "        print(f'{a} X {b} = {a*b}')\n",
    "    elif operator=='/':\n",
    "        print(f'{a} / {b} = {a/b}')\n",
    "    else:\n",
    "        print(\"Please enter a valid operator!\")\n",
    "              \n",
    "# Taking numbers as input\n",
    "a=float(input(\"Enter first number: \"))\n",
    "b=float(input(\"Enter first number: \"))\n",
    "\n",
    "# Calling the function\n",
    "calculator(a,b)  "
   ]
  },
  {
   "cell_type": "code",
   "execution_count": 53,
   "id": "227100cb",
   "metadata": {},
   "outputs": [
    {
     "name": "stdout",
     "output_type": "stream",
     "text": [
      "Roots: (3.0, 1.0, 1.9999999999999998)\n"
     ]
    }
   ],
   "source": [
    "# 20)\n",
    "import math\n",
    "\n",
    "# Defining a function to get cubic roots\n",
    "def solve_cubic(a, b, c, d):\n",
    "    # Calculate coefficients for the depressed cubic equation\n",
    "    p = (3 * a * c - b ** 2) / (3 * a ** 2)\n",
    "    q = (2 * b ** 3 - 9 * a * b * c + 27 * a ** 2 * d) / (27 * a ** 3)\n",
    "    \n",
    "    # Calculate discriminant of the depressed cubic equation\n",
    "    discriminant = (q / 2) ** 2 + (p / 3) ** 3\n",
    "    \n",
    "    if discriminant > 0:\n",
    "        # Three real roots\n",
    "        u = (-q / 2 + discriminant ** 0.5) ** (1/3)\n",
    "        v = (-q / 2 - discriminant ** 0.5) ** (1/3)\n",
    "        root1 = u + v - b / (3 * a)\n",
    "        real_part = -0.5 * (u + v) - b / (3 * a)\n",
    "        imaginary_part = (u - v) * (3 ** 0.5) / 2\n",
    "        root2 = complex(real_part, imaginary_part)\n",
    "        root3 = complex(real_part, -imaginary_part)\n",
    "    elif discriminant == 0:\n",
    "        # One real root, two complex roots\n",
    "        if q >= 0:\n",
    "            root1 = -2 * (q / 2) ** (1/3) - b / (3 * a)\n",
    "        else:\n",
    "            root1 = 2 * abs(q / 2) ** (1/3) * math.cos(math.acos(-q / (2 * (q / 2) ** (1/3))) / 3) - b / (3 * a)\n",
    "        real_part = -abs(q / 2) ** (1/3) * (math.cos(math.acos(-q / (2 * (q / 2) ** (1/3))) / 3) + math.sqrt(3) * math.sin(math.acos(-q / (2 * (q / 2) ** (1/3))) / 3)) - b / (3 * a)\n",
    "        imaginary_part = abs(q / 2) ** (1/3) * (math.sin(math.acos(-q / (2 * (q / 2) ** (1/3))) / 3)) * math.sqrt(3)\n",
    "        root2 = complex(real_part, imaginary_part)\n",
    "        root3 = complex(real_part, -imaginary_part)\n",
    "    else:\n",
    "        # Three real, unequal roots\n",
    "        phi = math.acos(-q / (2 * ((-p / 3) ** 1.5)))\n",
    "        root1 = 2 * math.sqrt(-p / 3) * math.cos(phi / 3) - b / (3 * a)\n",
    "        root2 = 2 * math.sqrt(-p / 3) * math.cos((phi + 2 * math.pi) / 3) - b / (3 * a)\n",
    "        root3 = 2 * math.sqrt(-p / 3) * math.cos((phi + 4 * math.pi) / 3) - b / (3 * a)\n",
    "    \n",
    "    return root1, root2, root3\n",
    "\n",
    "# Example values\n",
    "a = 1\n",
    "b = -6\n",
    "c = 11\n",
    "d = -6\n",
    "roots = solve_cubic(a, b, c, d)\n",
    "print(\"Roots:\", roots)"
   ]
  },
  {
   "cell_type": "markdown",
   "id": "3b6fb166",
   "metadata": {},
   "source": [
    "**Advanced Level**"
   ]
  },
  {
   "cell_type": "code",
   "execution_count": 54,
   "id": "5a2e6635",
   "metadata": {},
   "outputs": [
    {
     "name": "stdout",
     "output_type": "stream",
     "text": [
      "Enter your Annual Income: Rs900000\n",
      "Your Income tax is: Rs 92,500.00 \n",
      "Net income is: Rs 807,500.00\n"
     ]
    }
   ],
   "source": [
    "# 21)\n",
    "# Taking the Annual Income as input\n",
    "income = float(input(\"Enter your Annual Income: Rs\"))\n",
    "\n",
    "# Specifying income tax rates and slabs\n",
    "rate_slab_1 = 0.05  \n",
    "rate_slab_2 = 0.20  \n",
    "rate_slab_3 = 0.30  \n",
    "\n",
    "slab_1_limit = 250000   \n",
    "slab_2_limit = 500000   \n",
    "slab_3_limit = 1000000   \n",
    "\n",
    "# Calculating income tax   \n",
    "if income<=slab_1_limit:\n",
    "    tax=0\n",
    "elif income<=slab_2_limit:\n",
    "    tax=(income-slab_1_limit)*rate_slab_1\n",
    "elif income<=slab_3_limit:\n",
    "    tax=(slab_2_limit-slab_1_limit)*rate_slab_1+(income-slab_2_limit)*rate_slab_2\n",
    "elif income>=slab_3_limit:\n",
    "    tax=(slab_2_limit - slab_1_limit) * rate_slab_1 + (slab_3_limit - slab_2_limit) * rate_slab_2 + (income - slab_3_limit) * rate_slab_3\n",
    "else:\n",
    "    print(\"Income cannot be negative. Enter a valid amount!\")\n",
    "\n",
    "    # Display the electricity bill\n",
    "print(f\"Your Income tax is: Rs {tax:,.2f} \\nNet income is: Rs {income-tax:,.2f}\")"
   ]
  },
  {
   "cell_type": "code",
   "execution_count": 55,
   "id": "86c712cd",
   "metadata": {},
   "outputs": [
    {
     "name": "stdout",
     "output_type": "stream",
     "text": [
      "Welcome to Rock-Paper-Scissors!\n",
      "Choose rock, paper or scissor: Rock\n",
      "You chose rock\n",
      "Computer chose rock\n",
      "It's a tie!\n",
      "Do you want to play again? (yes/no): no\n"
     ]
    }
   ],
   "source": [
    "# 22)\n",
    "import random\n",
    "\n",
    "# Defining function to get user's choice\n",
    "def get_user_choice():\n",
    "    while True:\n",
    "        user_choice=input(\"Choose rock, paper or scissor: \").strip().lower()\n",
    "        if user_choice in [\"rock\",\"paper\",\"scissor\"]:\n",
    "            return user_choice\n",
    "        else:\n",
    "            print(\"Invalid choice. Please choose rock, paper, or scissors.\")\n",
    "    \n",
    "# Defining function to get computer's choice\n",
    "def get_computer_choice():\n",
    "    choices=[\"rock\",\"paper\",\"scissor\"]\n",
    "    return random.choice(choices)\n",
    "    \n",
    "    \n",
    "# Defining function to determine the winner\n",
    "def get_winner(user_choice,computer_choice):\n",
    "    if user_choice==computer_choice:\n",
    "        return \"It's a tie!\"\n",
    "    elif (user_choice==\"rock\" and computer_choice==\"scissor\") or \\\n",
    "         (user_choice==\"scissor\" and computer_choice==\"paper\") or \\\n",
    "         (user_choice==\"paper\" and computer_choice==\"rock\"):\n",
    "        return \"You win!\"\n",
    "    else:\n",
    "        return \"Computer wins!\"\n",
    "    \n",
    "def main():\n",
    "    print(\"Welcome to Rock-Paper-Scissors!\")\n",
    "    while True:\n",
    "        user_choice = get_user_choice()\n",
    "        computer_choice = get_computer_choice()\n",
    "        \n",
    "        print(f'You chose {user_choice}')\n",
    "        print(f'Computer chose {computer_choice}')\n",
    "        \n",
    "        result = get_winner(user_choice, computer_choice)\n",
    "        print(result)\n",
    "        \n",
    "        while True:\n",
    "            play_again = input(\"Do you want to play again? (yes/no): \").strip().lower()\n",
    "            if play_again == \"yes\":\n",
    "                break  # Continue the game\n",
    "            elif play_again == \"no\":\n",
    "                return  # Exit the main function, ending the game\n",
    "            else:\n",
    "                print(\"Please enter yes/no!\")\n",
    "\n",
    "if __name__ == \"__main__\":\n",
    "    main()"
   ]
  },
  {
   "cell_type": "code",
   "execution_count": 56,
   "id": "49956c1a",
   "metadata": {},
   "outputs": [
    {
     "name": "stdout",
     "output_type": "stream",
     "text": [
      "Welcome to the Random Password Generator!\n",
      "Enter the password length: 8\n",
      "Enter complexity level (low, medium, high): high\n",
      "Your random password is: Vy_5%Ul\\\n"
     ]
    }
   ],
   "source": [
    "# 23)\n",
    "import random\n",
    "import string\n",
    "\n",
    "# Defining a function togenerate a random password based on user preferences (length, complexity) \n",
    "def generate_password(length, complexity):\n",
    "    # Define character sets based on complexity preferences\n",
    "    lower_case = string.ascii_lowercase\n",
    "    upper_case = string.ascii_uppercase\n",
    "    digits = string.digits\n",
    "    special_chars = string.punctuation\n",
    "\n",
    "    # Combining character sets based on complexity\n",
    "    charset = \"\"\n",
    "    if complexity == \"low\":\n",
    "        charset = lower_case\n",
    "    elif complexity == \"medium\":\n",
    "        charset = lower_case + upper_case + digits\n",
    "    elif complexity == \"high\":\n",
    "        charset = lower_case + upper_case + digits + special_chars\n",
    "    else:\n",
    "        print(\"Invalid complexity level. Please choose low, medium, or high.\")\n",
    "        return None\n",
    "\n",
    "    # Generating the password\n",
    "    password = \"\".join(random.choice(charset) for _ in range(length))\n",
    "    return password\n",
    "\n",
    "def password():\n",
    "    print(\"Welcome to the Random Password Generator!\")\n",
    "\n",
    "    # Getting user preferences for password length and complexity\n",
    "    length = int(input(\"Enter the password length: \"))\n",
    "    complexity = input(\"Enter complexity level (low, medium, high): \").lower()\n",
    "\n",
    "    # Generating and display the password\n",
    "    password = generate_password(length, complexity)\n",
    "\n",
    "    if password:\n",
    "        print(f\"Your random password is: {password}\")\n",
    "\n",
    "\n",
    "password()"
   ]
  },
  {
   "cell_type": "code",
   "execution_count": 57,
   "id": "6294368e",
   "metadata": {},
   "outputs": [
    {
     "name": "stdout",
     "output_type": "stream",
     "text": [
      "Welcome to the Text-Based Adventure Game!\n",
      "You find yourself in a dark forest. You can go left or right.\n",
      "Which path will you choose: left or right?\n",
      "right\n",
      "You chose to go right.\n",
      "You stumble upon a mysterious cave. Do you enter (yes/no)?\n",
      "yes\n",
      "Inside the cave, you discover a hidden treasure chest. You win!\n"
     ]
    }
   ],
   "source": [
    "# 24)\n",
    "import time\n",
    "\n",
    "# Function to give intro\n",
    "def intro():\n",
    "    print(\"Welcome to the Text-Based Adventure Game!\")\n",
    "    time.sleep(2)\n",
    "    print(\"You find yourself in a dark forest. You can go left or right.\")\n",
    "    time.sleep(2)\n",
    "\n",
    "# Function for left path\n",
    "def left_path():\n",
    "    print(\"You chose to go left.\")\n",
    "    time.sleep(2)\n",
    "    print(\"You encounter a friendly squirrel who offers you directions.\")\n",
    "    time.sleep(2)\n",
    "    print(\"Do you follow the squirrel (yes/no)?\")\n",
    "    choice = input().lower()\n",
    "    if choice == \"yes\":\n",
    "        print(\"The squirrel leads you safely out of the forest. You win!\")\n",
    "    else:\n",
    "        print(\"You ignore the squirrel and get lost in the forest. Game over!\")\n",
    "\n",
    "# Function for right path\n",
    "def right_path():\n",
    "    print(\"You chose to go right.\")\n",
    "    time.sleep(2)\n",
    "    print(\"You stumble upon a mysterious cave. Do you enter (yes/no)?\")\n",
    "    choice = input().lower()\n",
    "    if choice == \"yes\":\n",
    "        print(\"Inside the cave, you discover a hidden treasure chest. You win!\")\n",
    "    else:\n",
    "        print(\"You decide not to enter the cave and continue wandering the forest. Game over!\")\n",
    "\n",
    "# Function to call all other functions to organize the game\n",
    "def play_game():\n",
    "    intro()\n",
    "    time.sleep(2)\n",
    "    print(\"Which path will you choose: left or right?\")\n",
    "    path_choice = input().lower()\n",
    "\n",
    "    if path_choice == \"left\":\n",
    "        left_path()\n",
    "    elif path_choice == \"right\":\n",
    "        right_path()\n",
    "    else:\n",
    "        print(\"Invalid choice. Please enter 'left' or 'right'.\")\n",
    "        play_game()\n",
    "\n",
    "\n",
    "play_game()"
   ]
  },
  {
   "cell_type": "code",
   "execution_count": 58,
   "id": "f6f3d235",
   "metadata": {},
   "outputs": [
    {
     "name": "stdout",
     "output_type": "stream",
     "text": [
      "Welcome to Linear Equation Solver\n",
      "Enter coefficients of your linear equation.\n",
      "a: 1\n",
      "b: 2\n",
      "Is there a constant term (c) in your equation? (yes/no)\n",
      "Yes\n",
      "c: 3\n",
      "The solution is x = -5.0\n"
     ]
    }
   ],
   "source": [
    "# 25)\n",
    "# Defining function to solve a linear equation\n",
    "def linear_solution(a,b,c=None):\n",
    "    if c is None: #Case: ax+b=0\n",
    "        if a==0:\n",
    "            if b==0:\n",
    "                return 'Infinite solutions (Identity equation)'\n",
    "            else:\n",
    "                return 'No solution.'\n",
    "        else: \n",
    "            x=-b / a\n",
    "            return f'The solution is x = {x}'\n",
    "    else: #Case:ax+b+c=0\n",
    "         if a==0:\n",
    "            if b==c:\n",
    "                return 'Infinite solutions (Identity equation)'\n",
    "            else:\n",
    "                return 'No solution.'\n",
    "         else: \n",
    "                x=-(b + c) / a\n",
    "                return f'The solution is x = {x}'\n",
    "\n",
    "            # Defining function for interactive linear equation solver        \n",
    "def main():\n",
    "    print(\"Welcome to Linear Equation Solver\")\n",
    "    print(\"Enter coefficients of your linear equation.\")\n",
    "    \n",
    "    #Taking coefficients as input\n",
    "    a=int(input(\"a: \"))\n",
    "    b=int(input(\"b: \"))\n",
    "    \n",
    "    print(\"Is there a constant term (c) in your equation? (yes/no)\")\n",
    "    choice= input().strip().lower()\n",
    "    if choice==\"yes\":\n",
    "        c=int(input(\"c: \"))\n",
    "        result=linear_solution(a,b,c)\n",
    "    elif choice==\"no\":\n",
    "        result=linear_solution(a,b)\n",
    "    else:\n",
    "        result=\"Invalid entry! Please enter yes or no.\"\n",
    "    print(result)\n",
    "        \n",
    "main()        "
   ]
  },
  {
   "cell_type": "code",
   "execution_count": 1,
   "id": "c02e77f2",
   "metadata": {},
   "outputs": [
    {
     "name": "stdout",
     "output_type": "stream",
     "text": [
      "Welcome to the Quiz Game!\n",
      "Question 1: What is the capital of France?\n",
      "A. London\n",
      "B. Madrid\n",
      "C. Paris\n",
      "D. Berlin\n",
      "Enter the letter of your answer (A, B, C, or D): c\n",
      "Correct!\n",
      "\n",
      "Question 2: Which planet is known as the 'Red Planet'?\n",
      "A. Earth\n",
      "B. Mars\n",
      "C. Jupiter\n",
      "D. Venus\n",
      "Enter the letter of your answer (A, B, C, or D): a\n",
      "Wrong! The correct answer is B.\n",
      "\n",
      "Question 3: What is the largest mammal in the world?\n",
      "A. Giraffe\n",
      "B. Elephant\n",
      "C. Blue Whale\n",
      "D. Dolphin\n",
      "Enter the letter of your answer (A, B, C, or D): c\n",
      "Correct!\n",
      "\n",
      "Your final score is 2/3.\n"
     ]
    }
   ],
   "source": [
    "# 26)\n",
    "# Defining a list of questions with options and correct answers\n",
    "questions = [\n",
    "    {\n",
    "        \"question\": \"What is the capital of France?\",\n",
    "        \"options\": [\"A. London\", \"B. Madrid\", \"C. Paris\", \"D. Berlin\"],\n",
    "        \"correct_answer\": \"C\"\n",
    "    },\n",
    "    {\n",
    "        \"question\": \"Which planet is known as the 'Red Planet'?\",\n",
    "        \"options\": [\"A. Earth\", \"B. Mars\", \"C. Jupiter\", \"D. Venus\"],\n",
    "        \"correct_answer\": \"B\"\n",
    "    },\n",
    "    {\n",
    "        \"question\": \"What is the largest mammal in the world?\",\n",
    "        \"options\": [\"A. Giraffe\", \"B. Elephant\", \"C. Blue Whale\", \"D. Dolphin\"],\n",
    "        \"correct_answer\": \"C\"\n",
    "    }\n",
    "]\n",
    "\n",
    "# Initializing the score\n",
    "score = 0\n",
    "\n",
    "# Defining a function to display and process questions\n",
    "def quiz():\n",
    "    global score\n",
    "    for index, question_data in enumerate(questions, 1):\n",
    "        print(f\"Question {index}: {question_data['question']}\")\n",
    "        for option in question_data['options']:\n",
    "            print(option)\n",
    "        \n",
    "        user_answer = input(\"Enter the letter of your answer (A, B, C, or D): \").upper()\n",
    "        \n",
    "        if user_answer == question_data['correct_answer']:\n",
    "            print(\"Correct!\\n\")\n",
    "            score += 1\n",
    "        else:\n",
    "            print(f\"Wrong! The correct answer is {question_data['correct_answer']}.\\n\")\n",
    "\n",
    "# Run the quiz\n",
    "print(\"Welcome to the Quiz Game!\")\n",
    "quiz()\n",
    "\n",
    "# Display the final score\n",
    "print(f\"Your final score is {score}/{len(questions)}.\")\n"
   ]
  },
  {
   "cell_type": "code",
   "execution_count": 2,
   "id": "d01420f7",
   "metadata": {},
   "outputs": [
    {
     "name": "stdout",
     "output_type": "stream",
     "text": [
      "Enter a year to check for primality: 2003\n",
      "2003 is a prime year.\n"
     ]
    }
   ],
   "source": [
    "# 27)\n",
    "# Defining a function to check if a year is prime or not\n",
    "def is_prime(year):\n",
    "    if year <= 1:\n",
    "        return False\n",
    "    if year <= 3:\n",
    "        return True\n",
    "    if year % 2 == 0 or year % 3 == 0:\n",
    "        return False\n",
    "\n",
    "    i = 5\n",
    "    while i * i <= year:\n",
    "        if year % i == 0 or year % (i + 2) == 0:\n",
    "            return False\n",
    "        i += 6\n",
    "\n",
    "    return True\n",
    "\n",
    "# Taking year as input\n",
    "year = int(input(\"Enter a year to check for primality: \"))\n",
    "\n",
    "# Checking if the year is prime or not\n",
    "if is_prime(year):\n",
    "    print(f\"{year} is a prime year.\")\n",
    "else:\n",
    "    print(f\"{year} is not a prime year.\")"
   ]
  },
  {
   "cell_type": "code",
   "execution_count": 5,
   "id": "35a0cf04",
   "metadata": {},
   "outputs": [
    {
     "name": "stdout",
     "output_type": "stream",
     "text": [
      "Enter the first number: 33.3\n",
      "Enter the second number: 24.7\n",
      "Enter the third number: 31.9\n",
      "The numbers in ascending order are: 24.7, 31.9, 33.3\n"
     ]
    }
   ],
   "source": [
    "# 28)\n",
    "# Taking three numbers as input\n",
    "num1 = float(input(\"Enter the first number: \"))\n",
    "num2 = float(input(\"Enter the second number: \"))\n",
    "num3 = float(input(\"Enter the third number: \"))\n",
    "\n",
    "# Using conditional statements to sort the numbers in ascending order\n",
    "if num1 <= num2 and num1 <= num3:\n",
    "    smallest = num1\n",
    "    if num2 <= num3:\n",
    "        middle = num2\n",
    "        largest = num3\n",
    "    else:\n",
    "        middle = num3\n",
    "        largest = num2\n",
    "elif num2 <= num1 and num2 <= num3:\n",
    "    smallest = num2\n",
    "    if num1 <= num3:\n",
    "        middle = num1\n",
    "        largest = num3\n",
    "    else:\n",
    "        middle = num3\n",
    "        largest = num1\n",
    "else:\n",
    "    smallest = num3\n",
    "    if num1 <= num2:\n",
    "        middle = num1\n",
    "        largest = num2\n",
    "    else:\n",
    "        middle = num2\n",
    "        largest = num1\n",
    "\n",
    "# Printingthe sorted numbers in ascending order\n",
    "print(f\"The numbers in ascending order are: {smallest}, {middle}, {largest}\")"
   ]
  },
  {
   "cell_type": "code",
   "execution_count": 6,
   "id": "45316f64",
   "metadata": {},
   "outputs": [
    {
     "name": "stdout",
     "output_type": "stream",
     "text": [
      "Approximate root of the quartic equation: 1.000000\n"
     ]
    }
   ],
   "source": [
    "# 29)\n",
    "# Defining a funcation to evaluate the quartic equation at x\n",
    "def quartic_equation(x, coefficients):\n",
    "    \n",
    "    result = 0\n",
    "    for i, coef in enumerate(coefficients):\n",
    "        result += coef * x**i\n",
    "    return result\n",
    "\n",
    "# Defining a funcation to evaluate the derivative of the quartic equation at x\n",
    "def derivative_quartic(x, coefficients):\n",
    "    \n",
    "    result = 0\n",
    "    for i, coef in enumerate(coefficients[1:], start=1):\n",
    "        result += i * coef * x**(i-1)\n",
    "    return result\n",
    "\n",
    "# Defining a function to run Newton Raphson\n",
    "def newton_raphson_quartic(coefficients, initial_guess, tolerance=1e-6, max_iterations=100):\n",
    "    x = initial_guess\n",
    "    for i in range(max_iterations):\n",
    "        f_x = quartic_equation(x, coefficients)\n",
    "        f_prime_x = derivative_quartic(x, coefficients)\n",
    "        if abs(f_x) < tolerance:\n",
    "            return x  # Found a root within tolerance\n",
    "        x = x - f_x / f_prime_x\n",
    "    return None  # No root found within max_iterations\n",
    "\n",
    "# Coefficients of the quartic equation: ax^4 + bx^3 + cx^2 + dx + e = 0\n",
    "coefficients = [1, -6, 11, -6]  # Modify with your coefficients\n",
    "\n",
    "# Initial guess for root\n",
    "initial_guess = 1.0\n",
    "\n",
    "# Finding the root using Newton-Raphson method\n",
    "root = newton_raphson_quartic(coefficients, initial_guess)\n",
    "\n",
    "if root is not None:\n",
    "    print(f\"Approximate root of the quartic equation: {root:.6f}\")\n",
    "else:\n",
    "    print(\"No root found within the specified tolerance and iterations.\")\n"
   ]
  },
  {
   "cell_type": "code",
   "execution_count": 7,
   "id": "81acc008",
   "metadata": {},
   "outputs": [
    {
     "name": "stdout",
     "output_type": "stream",
     "text": [
      "Enter your height (in meters):1.62\n",
      "Enter your weight (in Kg):75\n",
      "Your BMI is 28.58, which falls into the category: Overweight\n"
     ]
    }
   ],
   "source": [
    "# 30)\n",
    "# Taking height and weight as input\n",
    "height=float(input(\"Enter your height (in meters):\"))\n",
    "weight=float(input(\"Enter your weight (in Kg):\"))\n",
    "\n",
    "# Calculating BMI\n",
    "bmi=weight/(height**2)\n",
    "\n",
    "# Specifying conditions to categorize a given person's BMI into underweight, normal, overweight, or obese\n",
    "if bmi<18.5:\n",
    "    category= 'Underweight'\n",
    "elif 18.5<=bmi<25:\n",
    "    category= 'Normal'\n",
    "elif 25<=bmi<30:\n",
    "    category= 'Overweight'\n",
    "else:\n",
    "    category='Obese'\n",
    "print(f'Your BMI is {bmi:.2f}, which falls into the category: {category}')"
   ]
  },
  {
   "cell_type": "markdown",
   "id": "8279f5ae",
   "metadata": {},
   "source": [
    "**Challenge Level:**"
   ]
  },
  {
   "cell_type": "code",
   "execution_count": 8,
   "id": "88020eca",
   "metadata": {},
   "outputs": [
    {
     "name": "stdout",
     "output_type": "stream",
     "text": [
      "Welcome to the Random Password Generator!\n",
      "Enter the password length: 8\n",
      "Enter complexity level (low, medium, high): high\n",
      "Your random password is: Fnm+x\"wz\n"
     ]
    }
   ],
   "source": [
    "# 31)\n",
    "import random\n",
    "import string\n",
    "\n",
    "# Defining a function togenerate a random password based on user preferences (length, complexity) \n",
    "def generate_password(length, complexity):\n",
    "    # Define character sets based on complexity preferences\n",
    "    lower_case = string.ascii_lowercase\n",
    "    upper_case = string.ascii_uppercase\n",
    "    digits = string.digits\n",
    "    special_chars = string.punctuation\n",
    "\n",
    "    # Combining character sets based on complexity\n",
    "    charset = \"\"\n",
    "    if complexity == \"low\":\n",
    "        charset = lower_case\n",
    "    elif complexity == \"medium\":\n",
    "        charset = lower_case + upper_case + digits\n",
    "    elif complexity == \"high\":\n",
    "        charset = lower_case + upper_case + digits + special_chars\n",
    "    else:\n",
    "        print(\"Invalid complexity level. Please choose low, medium, or high.\")\n",
    "        return None\n",
    "\n",
    "    # Generating the password\n",
    "    password = \"\".join(random.choice(charset) for _ in range(length))\n",
    "    return password\n",
    "\n",
    "def password():\n",
    "    print(\"Welcome to the Random Password Generator!\")\n",
    "\n",
    "    # Getting user preferences for password length and complexity\n",
    "    length = int(input(\"Enter the password length: \"))\n",
    "    complexity = input(\"Enter complexity level (low, medium, high): \").lower()\n",
    "\n",
    "    # Generating and display the password\n",
    "    password = generate_password(length, complexity)\n",
    "\n",
    "    if password:\n",
    "        print(f\"Your random password is: {password}\")\n",
    "\n",
    "\n",
    "password()"
   ]
  },
  {
   "cell_type": "code",
   "execution_count": 9,
   "id": "1b78f590",
   "metadata": {},
   "outputs": [
    {
     "name": "stdout",
     "output_type": "stream",
     "text": [
      "Enter the number of rows: 3\n",
      "Enter the number of columns: 2\n",
      "Input the first matrix:\n",
      "Enter element at position (1,1): 2\n",
      "Enter element at position (1,2): 1\n",
      "Enter element at position (2,1): 1\n",
      "Enter element at position (2,2): 1\n",
      "Enter element at position (3,1): 1\n",
      "Enter element at position (3,2): 1\n",
      "Input the second matrix:\n",
      "Enter element at position (1,1): 2\n",
      "Enter element at position (1,2): 2\n",
      "Enter element at position (2,1): 3\n",
      "Enter element at position (2,2): 2\n",
      "Enter element at position (3,1): 2\n",
      "Enter element at position (3,2): 1\n",
      "Matrix Addition Result:\n",
      "4.0 3.0\n",
      "4.0 3.0\n",
      "3.0 2.0\n",
      "Matrix Subtraction Result:\n",
      "0.0 -1.0\n",
      "-2.0 -1.0\n",
      "-1.0 0.0\n"
     ]
    }
   ],
   "source": [
    "# 32)\n",
    "# Defining a function for matrix addition\n",
    "def add_matrices(matrix1, matrix2):\n",
    "    if len(matrix1) != len(matrix2) or len(matrix1[0]) != len(matrix2[0]):\n",
    "        return None  # Matrices must have the same dimensions for addition\n",
    "    result = []\n",
    "    for i in range(len(matrix1)):\n",
    "        row = []\n",
    "        for j in range(len(matrix1[0])):\n",
    "            row.append(matrix1[i][j] + matrix2[i][j])\n",
    "        result.append(row)\n",
    "    return result\n",
    "\n",
    "# Defining a function to for matrix subtraction\n",
    "def subtract_matrices(matrix1, matrix2):\n",
    "    if len(matrix1) != len(matrix2) or len(matrix1[0]) != len(matrix2[0]):\n",
    "        return None  # Matrices must have the same dimensions for subtraction\n",
    "    result = []\n",
    "    for i in range(len(matrix1)):\n",
    "        row = []\n",
    "        for j in range(len(matrix1[0])):\n",
    "            row.append(matrix1[i][j] - matrix2[i][j])\n",
    "        result.append(row)\n",
    "    return result\n",
    "\n",
    "# Defining a function to take matrix as input\n",
    "def input_matrix(rows, cols):\n",
    "    matrix = []\n",
    "    for i in range(rows):\n",
    "        row = []\n",
    "        for j in range(cols):\n",
    "            element = float(input(f\"Enter element at position ({i+1},{j+1}): \"))\n",
    "            row.append(element)\n",
    "        matrix.append(row)\n",
    "    return matrix\n",
    "\n",
    "# Defining a function to print matrix\n",
    "def print_matrix(matrix):\n",
    "    for row in matrix:\n",
    "        print(\" \".join(map(str, row)))\n",
    "\n",
    "# Taking matrix dimensions from the user\n",
    "rows = int(input(\"Enter the number of rows: \"))\n",
    "cols = int(input(\"Enter the number of columns: \"))\n",
    "\n",
    "# Taking the first matrix as input\n",
    "print(\"Input the first matrix:\")\n",
    "matrix1 = input_matrix(rows, cols)\n",
    "\n",
    "# Taking the second matrix as input\n",
    "print(\"Input the second matrix:\")\n",
    "matrix2 = input_matrix(rows, cols)\n",
    "\n",
    "# Matrix addition\n",
    "result_addition = add_matrices(matrix1, matrix2)\n",
    "if result_addition is not None:\n",
    "    print(\"Matrix Addition Result:\")\n",
    "    print_matrix(result_addition)\n",
    "else:\n",
    "    print(\"Matrix addition is not possible due to different dimensions.\")\n",
    "\n",
    "# Matrix subtraction\n",
    "result_subtraction = subtract_matrices(matrix1, matrix2)\n",
    "if result_subtraction is not None:\n",
    "    print(\"Matrix Subtraction Result:\")\n",
    "    print_matrix(result_subtraction)\n",
    "else:\n",
    "    print(\"Matrix subtraction is not possible due to different dimensions.\")"
   ]
  },
  {
   "cell_type": "code",
   "execution_count": 10,
   "id": "30b52d54",
   "metadata": {},
   "outputs": [
    {
     "name": "stdout",
     "output_type": "stream",
     "text": [
      "Enter the first number: 23\n",
      "Enter the second number: 34\n",
      "The greatest common divisor (GCD) of 23 and 34 is 1.\n"
     ]
    }
   ],
   "source": [
    "# 33)\n",
    "# Defining a function to calculate Euclidean GCD\n",
    "def euclidean_gcd(a, b):\n",
    "    while b:\n",
    "        a, b = b, a % b\n",
    "    return a\n",
    "\n",
    "# Takings two numbers as input from the user\n",
    "num1 = int(input(\"Enter the first number: \"))\n",
    "num2 = int(input(\"Enter the second number: \"))\n",
    "\n",
    "# Calculating the GCD using the Euclidean algorithm\n",
    "gcd = euclidean_gcd(num1, num2)\n",
    "\n",
    "# Print the result\n",
    "print(f\"The greatest common divisor (GCD) of {num1} and {num2} is {gcd}.\")\n"
   ]
  },
  {
   "cell_type": "code",
   "execution_count": 11,
   "id": "36cc4315",
   "metadata": {},
   "outputs": [
    {
     "name": "stdout",
     "output_type": "stream",
     "text": [
      "Enter the dimensions of the first matrix:\n",
      "Number of rows: 2\n",
      "Number of columns: 2\n",
      "Enter the dimensions of the second matrix:\n",
      "Number of rows: 2\n",
      "Number of columns: 2\n",
      "Enter the elements of the first matrix:\n",
      "1\n",
      "0\n",
      "1\n",
      "0\n",
      "Enter the elements of the second matrix:\n",
      "2\n",
      "1\n",
      "3\n",
      "4\n",
      "Resulting matrix after multiplication:\n",
      "[2, 1]\n",
      "[2, 1]\n"
     ]
    }
   ],
   "source": [
    "# 34)\n",
    "# Defining a function to multiply two matrices\n",
    "def multiply_matrices(matrix1, matrix2):\n",
    "    # Check if matrices can be multiplied\n",
    "    if len(matrix1[0]) != len(matrix2):\n",
    "        return \"Matrix multiplication is not possible. The number of columns in the first matrix must be equal to the number of rows in the second matrix.\"\n",
    "    \n",
    "    # Create an empty result matrix\n",
    "    result = [[0 for _ in range(len(matrix2[0]))] for _ in range(len(matrix1))]\n",
    "    \n",
    "    # Perform matrix multiplication\n",
    "    for i in range(len(matrix1)):\n",
    "        for j in range(len(matrix2[0])):\n",
    "            for k in range(len(matrix2)):\n",
    "                result[i][j] += matrix1[i][k] * matrix2[k][j]\n",
    "    \n",
    "    return result\n",
    "\n",
    "# Taking matrices as input from the user\n",
    "print(\"Enter the dimensions of the first matrix:\")\n",
    "rows1 = int(input(\"Number of rows: \"))\n",
    "cols1 = int(input(\"Number of columns: \"))\n",
    "\n",
    "print(\"Enter the dimensions of the second matrix:\")\n",
    "rows2 = int(input(\"Number of rows: \"))\n",
    "cols2 = int(input(\"Number of columns: \"))\n",
    "\n",
    "if cols1 != rows2:\n",
    "    print(\"Matrix multiplication is not possible. The number of columns in the first matrix must be equal to the number of rows in the second matrix.\")\n",
    "else:\n",
    "    # Taking the elements of the matrices as input\n",
    "    print(\"Enter the elements of the first matrix:\")\n",
    "    matrix1 = [[int(input()) for _ in range(cols1)] for _ in range(rows1)]\n",
    "\n",
    "    print(\"Enter the elements of the second matrix:\")\n",
    "    matrix2 = [[int(input()) for _ in range(cols2)] for _ in range(rows2)]\n",
    "\n",
    "    # Performing matrix multiplication\n",
    "    result_matrix = multiply_matrices(matrix1, matrix2)\n",
    "\n",
    "    # Printing the result\n",
    "    if isinstance(result_matrix, str):\n",
    "        print(result_matrix)\n",
    "    else:\n",
    "        print(\"Resulting matrix after multiplication:\")\n",
    "        for row in result_matrix:\n",
    "            print(row)\n"
   ]
  },
  {
   "cell_type": "code",
   "execution_count": 13,
   "id": "d5573fd9",
   "metadata": {},
   "outputs": [
    {
     "name": "stdout",
     "output_type": "stream",
     "text": [
      "Welcome to Tic-Tac-Toe!\n",
      "  |   |  \n",
      "---------\n",
      "  |   |  \n",
      "---------\n",
      "  |   |  \n",
      "---------\n",
      "Enter row (0, 1, 2) and column (0, 1, 2) separated by a space: 0 0\n",
      "X |   |  \n",
      "---------\n",
      "  |   |  \n",
      "---------\n",
      "  |   |  \n",
      "---------\n",
      "X |   |  \n",
      "---------\n",
      "  | O |  \n",
      "---------\n",
      "  |   |  \n",
      "---------\n",
      "Enter row (0, 1, 2) and column (0, 1, 2) separated by a space: 2 2\n",
      "X |   |  \n",
      "---------\n",
      "  | O |  \n",
      "---------\n",
      "  |   | X\n",
      "---------\n",
      "X |   |  \n",
      "---------\n",
      "  | O |  \n",
      "---------\n",
      "  | O | X\n",
      "---------\n",
      "Enter row (0, 1, 2) and column (0, 1, 2) separated by a space: 0 1\n",
      "X | X |  \n",
      "---------\n",
      "  | O |  \n",
      "---------\n",
      "  | O | X\n",
      "---------\n",
      "X | X |  \n",
      "---------\n",
      "  | O | O\n",
      "---------\n",
      "  | O | X\n",
      "---------\n",
      "Enter row (0, 1, 2) and column (0, 1, 2) separated by a space: 0 2\n",
      "X | X | X\n",
      "---------\n",
      "  | O | O\n",
      "---------\n",
      "  | O | X\n",
      "---------\n",
      "Player wins!\n"
     ]
    }
   ],
   "source": [
    "# 35)\n",
    "import random\n",
    "\n",
    "# Defining function to print the Tic-Tac-Toe board\n",
    "def print_board(board):\n",
    "    for row in board:\n",
    "        print(\" | \".join(row))\n",
    "        print(\"-\" * 9)\n",
    "\n",
    "# Defining function to check if the game is over\n",
    "def is_game_over(board):\n",
    "    # Check rows, columns, and diagonals for a win\n",
    "    for i in range(3):\n",
    "        if board[i][0] == board[i][1] == board[i][2] != ' ':\n",
    "            return True\n",
    "        if board[0][i] == board[1][i] == board[2][i] != ' ':\n",
    "            return True\n",
    "    if board[0][0] == board[1][1] == board[2][2] != ' ':\n",
    "        return True\n",
    "    if board[0][2] == board[1][1] == board[2][0] != ' ':\n",
    "        return True\n",
    "\n",
    "    # Checking if the board is full (a tie)\n",
    "    for row in board:\n",
    "        if ' ' in row:\n",
    "            return False\n",
    "    return True\n",
    "\n",
    "# Defining function for the computer's move (random placement)\n",
    "def computer_move(board):\n",
    "    empty_cells = [(i, j) for i in range(3) for j in range(3) if board[i][j] == ' ']\n",
    "    if empty_cells:\n",
    "        return random.choice(empty_cells)\n",
    "\n",
    "# Initializing the Tic-Tac-Toe board\n",
    "board = [[' ' for _ in range(3)] for _ in range(3)]\n",
    "player_turn = True  # True if it's the player's turn, False if it's the computer's turn\n",
    "\n",
    "print(\"Welcome to Tic-Tac-Toe!\")\n",
    "print_board(board)\n",
    "\n",
    "# Game loop\n",
    "while True:\n",
    "    if player_turn:\n",
    "        # Player's turn\n",
    "        row, col = map(int, input(\"Enter row (0, 1, 2) and column (0, 1, 2) separated by a space: \").split())\n",
    "        if board[row][col] == ' ':\n",
    "            board[row][col] = 'X'\n",
    "            player_turn = False\n",
    "        else:\n",
    "            print(\"Invalid move. Try again.\")\n",
    "    else:\n",
    "        # Computer's turn\n",
    "        row, col = computer_move(board)\n",
    "        board[row][col] = 'O'\n",
    "        player_turn = True\n",
    "\n",
    "    # Printing the updated board\n",
    "    print_board(board)\n",
    "\n",
    "    # Checking if the game is over\n",
    "    if is_game_over(board):\n",
    "        if player_turn:\n",
    "            print(\"Computer wins!\")\n",
    "        else:\n",
    "            print(\"You win!\")\n",
    "        break\n",
    "\n",
    "    # Checking for a tie\n",
    "    if all(row.count(' ') == 0 for row in board):\n",
    "        print(\"It's a tie!\")\n",
    "        break\n"
   ]
  },
  {
   "cell_type": "code",
   "execution_count": 16,
   "id": "8e4d89a8",
   "metadata": {},
   "outputs": [
    {
     "name": "stdout",
     "output_type": "stream",
     "text": [
      "Enter the term up to which you want to generate Fibonacci numbers: 7\n",
      "Fibonacci numbers up to term 7 are:\n",
      "[0, 1, 1, 2, 3, 5, 8]\n"
     ]
    }
   ],
   "source": [
    "# 36)\n",
    "# Taking the term up to which you want to generate Fibonacci numbers as input\n",
    "term = int(input(\"Enter the term up to which you want to generate Fibonacci numbers: \"))\n",
    "\n",
    "# Initializing the first two Fibonacci numbers\n",
    "fibonacci_sequence = [0, 1]\n",
    "\n",
    "# Generate Fibonacci numbers up to the specified term using a for loop\n",
    "for i in range(2, term):\n",
    "    next_number = fibonacci_sequence[-1] + fibonacci_sequence[-2]\n",
    "    fibonacci_sequence.append(next_number)\n",
    "\n",
    "# Display the generated Fibonacci numbers\n",
    "print(f\"Fibonacci numbers up to term {term} are:\")\n",
    "print(fibonacci_sequence)\n"
   ]
  },
  {
   "cell_type": "code",
   "execution_count": 17,
   "id": "d80c5334",
   "metadata": {},
   "outputs": [
    {
     "name": "stdout",
     "output_type": "stream",
     "text": [
      "Enter the value of n to calculate the nth Fibonacci term: 8\n",
      "The 8th Fibonacci term is: 21\n"
     ]
    }
   ],
   "source": [
    "# 37)\n",
    "# Taking dictionary to store previously computed Fibonacci numbers\n",
    "fibonacci_cache = {}\n",
    "\n",
    "# Defining a function to calculate the nth Fibonacci number using memoization\n",
    "def fibonacci(n):\n",
    "    # Check if the result is already in the cache\n",
    "    if n in fibonacci_cache:\n",
    "        return fibonacci_cache[n]\n",
    "    \n",
    "    # Base case: Fibonacci of 0 and 1\n",
    "    if n == 0:\n",
    "        return 0\n",
    "    elif n == 1:\n",
    "        return 1\n",
    "    \n",
    "    # Calculating the Fibonacci number recursively\n",
    "    result = fibonacci(n - 1) + fibonacci(n - 2)\n",
    "    \n",
    "    # Storing the result in the cache\n",
    "    fibonacci_cache[n] = result\n",
    "    \n",
    "    return result\n",
    "\n",
    "# Taking nth term of the Fibonacci sequence as input\n",
    "n = int(input(\"Enter the value of n to calculate the nth Fibonacci term: \"))\n",
    "\n",
    "# Printingthe nth Fibonacci term using memoization\n",
    "nth_fibonacci = fibonacci(n)\n",
    "print(f\"The {n}th Fibonacci term is: {nth_fibonacci}\")"
   ]
  },
  {
   "cell_type": "code",
   "execution_count": 18,
   "id": "6cfc3c4c",
   "metadata": {},
   "outputs": [
    {
     "name": "stdout",
     "output_type": "stream",
     "text": [
      "Enter year: 2023\n",
      "Enter month (1-12): 9\n",
      "Calendar for September 2023:\n",
      "   September 2023\n",
      "Mo Tu We Th Fr Sa Su\n",
      "             1  2  3\n",
      " 4  5  6  7  8  9 10\n",
      "11 12 13 14 15 16 17\n",
      "18 19 20 21 22 23 24\n",
      "25 26 27 28 29 30\n",
      "\n"
     ]
    }
   ],
   "source": [
    "# 38)\n",
    "import calendar\n",
    "\n",
    "# Taking Year and month as input\n",
    "year = int(input(\"Enter year: \"))\n",
    "month = int(input(\"Enter month (1-12): \"))\n",
    "\n",
    "# Validating input\n",
    "if month < 1 or month > 12:\n",
    "    print(\"Invalid month. Month should be between 1 and 12.\")\n",
    "else:\n",
    "    # Creating a calendar for the specified month and year\n",
    "    cal = calendar.month(year, month)\n",
    "\n",
    "    # Printing the calendar\n",
    "    print(f\"Calendar for {calendar.month_name[month]} {year}:\")\n",
    "    print(cal)"
   ]
  },
  {
   "cell_type": "code",
   "execution_count": 21,
   "id": "a539524c",
   "metadata": {},
   "outputs": [
    {
     "name": "stdout",
     "output_type": "stream",
     "text": [
      "Player's Hand:\n",
      "Nine of Hearts\n",
      "Ace of Diamonds\n",
      "\n",
      "Dealer's Hand:\n",
      "Nine of Hearts\n",
      "Unknown card\n",
      "Do you want to 'hit' or 'stand'? hit\n",
      "Player's Hand:\n",
      "Nine of Hearts\n",
      "Ace of Diamonds\n",
      "Ace of Spades\n",
      "\n",
      "Final Hands:\n",
      "Player's Hand:\n",
      "Nine of Hearts\n",
      "Ace of Diamonds\n",
      "Ace of Spades\n",
      "Player's Hand Value: 21\n",
      "\n",
      "Dealer's Hand:\n",
      "Nine of Hearts\n",
      "Six of Hearts\n",
      "Ace of Clubs\n",
      "Ace of Diamonds\n",
      "Dealer's Hand Value: 17\n",
      "\n",
      "Player wins!\n"
     ]
    }
   ],
   "source": [
    "# 39)\n",
    "import random\n",
    "\n",
    "# Defining the deck of cards\n",
    "suits = ['Hearts', 'Diamonds', 'Clubs', 'Spades']\n",
    "ranks = ['Two', 'Three', 'Four', 'Five', 'Six', 'Seven', 'Eight', 'Nine', 'Ten', 'Jack', 'Queen', 'King', 'Ace']\n",
    "\n",
    "# Creating a deck of cards\n",
    "deck = [{'rank': rank, 'suit': suit} for rank in ranks for suit in suits]\n",
    "\n",
    "# Define the values of cards\n",
    "card_values = {\n",
    "    'Two': 2, 'Three': 3, 'Four': 4, 'Five': 5, 'Six': 6, 'Seven': 7,\n",
    "    'Eight': 8, 'Nine': 9, 'Ten': 10, 'Jack': 10, 'Queen': 10, 'King': 10, 'Ace': 11\n",
    "}\n",
    "\n",
    "# Defining a function to calculate the value of a hand\n",
    "def calculate_hand_value(hand):\n",
    "    value = sum(card_values[card['rank']] for card in hand)\n",
    "    num_aces = sum(1 for card in hand if card['rank'] == 'Ace')\n",
    "\n",
    "    while num_aces > 0 and value > 21:\n",
    "        value -= 10\n",
    "        num_aces -= 1\n",
    "\n",
    "    return value\n",
    "\n",
    "# Defining a function to display a hand\n",
    "def display_hand(hand):\n",
    "    for card in hand:\n",
    "        print(f\"{card['rank']} of {card['suit']}\")\n",
    "\n",
    "# Dealing two initial cards to the player and the dealer\n",
    "player_hand = random.sample(deck, 2)\n",
    "dealer_hand = random.sample(deck, 2)\n",
    "\n",
    "# Displaying the initial hands\n",
    "print(\"Player's Hand:\")\n",
    "display_hand(player_hand)\n",
    "print(\"\\nDealer's Hand:\")\n",
    "print(f\"{dealer_hand[0]['rank']} of {dealer_hand[0]['suit']}\")\n",
    "print(\"Unknown card\")\n",
    "\n",
    "# Player's turn\n",
    "while calculate_hand_value(player_hand) < 21:\n",
    "    action = input(\"Do you want to 'hit' or 'stand'? \").lower()\n",
    "    if action == 'hit':\n",
    "        player_hand.append(deck.pop())\n",
    "        print(\"Player's Hand:\")\n",
    "        display_hand(player_hand)\n",
    "    elif action == 'stand':\n",
    "        break\n",
    "\n",
    "# Dealer's turn\n",
    "while calculate_hand_value(dealer_hand) < 17:\n",
    "    dealer_hand.append(deck.pop())\n",
    "\n",
    "# Display the final hands\n",
    "print(\"\\nFinal Hands:\")\n",
    "print(\"Player's Hand:\")\n",
    "display_hand(player_hand)\n",
    "print(\"Player's Hand Value:\", calculate_hand_value(player_hand))\n",
    "print(\"\\nDealer's Hand:\")\n",
    "display_hand(dealer_hand)\n",
    "print(\"Dealer's Hand Value:\", calculate_hand_value(dealer_hand))\n",
    "\n",
    "# Determining the winner\n",
    "player_value = calculate_hand_value(player_hand)\n",
    "dealer_value = calculate_hand_value(dealer_hand)\n",
    "\n",
    "if player_value > 21:\n",
    "    print(\"\\nPlayer busts. Dealer wins!\")\n",
    "elif dealer_value > 21:\n",
    "    print(\"\\nDealer busts. Player wins!\")\n",
    "elif player_value > dealer_value:\n",
    "    print(\"\\nPlayer wins!\")\n",
    "elif dealer_value > player_value:\n",
    "    print(\"\\nDealer wins!\")\n",
    "else:\n",
    "    print(\"\\nIt's a tie!\")"
   ]
  },
  {
   "cell_type": "code",
   "execution_count": 23,
   "id": "ab183b19",
   "metadata": {},
   "outputs": [
    {
     "name": "stdout",
     "output_type": "stream",
     "text": [
      "Enter a number: 1024\n",
      "The prime factors of 1024 are: [2, 2, 2, 2, 2, 2, 2, 2, 2, 2]\n"
     ]
    }
   ],
   "source": [
    "# 40)\n",
    "# Defining a function to get prime factors\n",
    "def prime_factors(n):\n",
    "    factors = []\n",
    "    divisor = 2\n",
    "\n",
    "    while n > 1:\n",
    "        while n % divisor == 0:\n",
    "            factors.append(divisor)\n",
    "            n //= divisor\n",
    "        divisor += 1\n",
    "\n",
    "    return factors\n",
    "\n",
    "# Taking number for which you want to find prime factors as input\n",
    "num = int(input(\"Enter a number: \"))\n",
    "\n",
    "if num < 2:\n",
    "    print(\"Prime factors are not defined for numbers less than 2.\")\n",
    "else:\n",
    "    factors = prime_factors(num)\n",
    "    if len(factors) == 1:\n",
    "        print(f\"{num} is a prime number.\")\n",
    "    else:\n",
    "        print(f\"The prime factors of {num} are: {factors}\")"
   ]
  }
 ],
 "metadata": {
  "kernelspec": {
   "display_name": "Python 3 (ipykernel)",
   "language": "python",
   "name": "python3"
  },
  "language_info": {
   "codemirror_mode": {
    "name": "ipython",
    "version": 3
   },
   "file_extension": ".py",
   "mimetype": "text/x-python",
   "name": "python",
   "nbconvert_exporter": "python",
   "pygments_lexer": "ipython3",
   "version": "3.11.4"
  }
 },
 "nbformat": 4,
 "nbformat_minor": 5
}
